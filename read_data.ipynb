{
 "cells": [
  {
   "cell_type": "code",
   "execution_count": 26,
   "metadata": {
    "collapsed": true,
    "ExecuteTime": {
     "end_time": "2023-08-19T18:55:41.817047100Z",
     "start_time": "2023-08-19T18:55:41.814997800Z"
    }
   },
   "outputs": [],
   "source": [
    "import pandas as pd\n",
    "import os\n",
    "import datetime\n",
    "import pytz\n",
    "import numpy as np\n",
    "import pickle"
   ]
  },
  {
   "cell_type": "code",
   "execution_count": 27,
   "outputs": [
    {
     "data": {
      "text/plain": "   id Age Height (cm) Weight (kg)  Gender Dominant hand  \\\n0   2  27         175          80    male         right   \n0   3  27         173          69    male         right   \n0   4  25         175          90    male         right   \n0   5  35         189          80    male         right   \n0   6  27         170          66    male         right   \n0   7  28         184          74    male         right   \n0   8  27         172          64  female          left   \n0   9  26         181          75    male         right   \n0  10  28         178          76    male         right   \n0  11  26         171          54  female         right   \n0  13  28         181          82    male         right   \n0  14  27         180          80    male         right   \n0  15  28         186          83    male         right   \n0  16  24         184          69    male         right   \n0  17  29         165          55  female         right   \n\n  Did you drink coffee today Did you drink coffee within the last hour  \\\n0                         NO                                        NO   \n0                         NO                                        NO   \n0                         NO                                        NO   \n0                        YES                                        NO   \n0                        YES                                        NO   \n0                         NO                                        NO   \n0                        YES                                        NO   \n0                         NO                                        NO   \n0                         NO                                        NO   \n0                        YES                                        NO   \n0                         NO                                        NO   \n0                         NO                                        NO   \n0                         NO                                        NO   \n0                         NO                                        NO   \n0                         NO                                        NO   \n\n  Did you do any sports today Are you a smoker  \\\n0                          NO               NO   \n0                          NO               NO   \n0                          NO               NO   \n0                          NO               NO   \n0                          NO              YES   \n0                         YES               NO   \n0                         YES               NO   \n0                          NO               NO   \n0                          NO               NO   \n0                          NO               NO   \n0                          NO               NO   \n0                          NO               NO   \n0                          NO               NO   \n0                          NO               NO   \n0                          NO               NO   \n\n  Did you smoke within the last hour Do you feel ill today  \n0                                 NO                    NO  \n0                                 NO                    NO  \n0                                 NO                    NO  \n0                                 NO                    NO  \n0                                 NO                    NO  \n0                                 NO                    NO  \n0                                 NO                    NO  \n0                                 NO                   YES  \n0                                 NO                    NO  \n0                                 NO                    NO  \n0                                 NO                    NO  \n0                                 NO                    NO  \n0                                 NO                    NO  \n0                                 NO                    NO  \n0                                 NO                    NO  ",
      "text/html": "<div>\n<style scoped>\n    .dataframe tbody tr th:only-of-type {\n        vertical-align: middle;\n    }\n\n    .dataframe tbody tr th {\n        vertical-align: top;\n    }\n\n    .dataframe thead th {\n        text-align: right;\n    }\n</style>\n<table border=\"1\" class=\"dataframe\">\n  <thead>\n    <tr style=\"text-align: right;\">\n      <th></th>\n      <th>id</th>\n      <th>Age</th>\n      <th>Height (cm)</th>\n      <th>Weight (kg)</th>\n      <th>Gender</th>\n      <th>Dominant hand</th>\n      <th>Did you drink coffee today</th>\n      <th>Did you drink coffee within the last hour</th>\n      <th>Did you do any sports today</th>\n      <th>Are you a smoker</th>\n      <th>Did you smoke within the last hour</th>\n      <th>Do you feel ill today</th>\n    </tr>\n  </thead>\n  <tbody>\n    <tr>\n      <th>0</th>\n      <td>2</td>\n      <td>27</td>\n      <td>175</td>\n      <td>80</td>\n      <td>male</td>\n      <td>right</td>\n      <td>NO</td>\n      <td>NO</td>\n      <td>NO</td>\n      <td>NO</td>\n      <td>NO</td>\n      <td>NO</td>\n    </tr>\n    <tr>\n      <th>0</th>\n      <td>3</td>\n      <td>27</td>\n      <td>173</td>\n      <td>69</td>\n      <td>male</td>\n      <td>right</td>\n      <td>NO</td>\n      <td>NO</td>\n      <td>NO</td>\n      <td>NO</td>\n      <td>NO</td>\n      <td>NO</td>\n    </tr>\n    <tr>\n      <th>0</th>\n      <td>4</td>\n      <td>25</td>\n      <td>175</td>\n      <td>90</td>\n      <td>male</td>\n      <td>right</td>\n      <td>NO</td>\n      <td>NO</td>\n      <td>NO</td>\n      <td>NO</td>\n      <td>NO</td>\n      <td>NO</td>\n    </tr>\n    <tr>\n      <th>0</th>\n      <td>5</td>\n      <td>35</td>\n      <td>189</td>\n      <td>80</td>\n      <td>male</td>\n      <td>right</td>\n      <td>YES</td>\n      <td>NO</td>\n      <td>NO</td>\n      <td>NO</td>\n      <td>NO</td>\n      <td>NO</td>\n    </tr>\n    <tr>\n      <th>0</th>\n      <td>6</td>\n      <td>27</td>\n      <td>170</td>\n      <td>66</td>\n      <td>male</td>\n      <td>right</td>\n      <td>YES</td>\n      <td>NO</td>\n      <td>NO</td>\n      <td>YES</td>\n      <td>NO</td>\n      <td>NO</td>\n    </tr>\n    <tr>\n      <th>0</th>\n      <td>7</td>\n      <td>28</td>\n      <td>184</td>\n      <td>74</td>\n      <td>male</td>\n      <td>right</td>\n      <td>NO</td>\n      <td>NO</td>\n      <td>YES</td>\n      <td>NO</td>\n      <td>NO</td>\n      <td>NO</td>\n    </tr>\n    <tr>\n      <th>0</th>\n      <td>8</td>\n      <td>27</td>\n      <td>172</td>\n      <td>64</td>\n      <td>female</td>\n      <td>left</td>\n      <td>YES</td>\n      <td>NO</td>\n      <td>YES</td>\n      <td>NO</td>\n      <td>NO</td>\n      <td>NO</td>\n    </tr>\n    <tr>\n      <th>0</th>\n      <td>9</td>\n      <td>26</td>\n      <td>181</td>\n      <td>75</td>\n      <td>male</td>\n      <td>right</td>\n      <td>NO</td>\n      <td>NO</td>\n      <td>NO</td>\n      <td>NO</td>\n      <td>NO</td>\n      <td>YES</td>\n    </tr>\n    <tr>\n      <th>0</th>\n      <td>10</td>\n      <td>28</td>\n      <td>178</td>\n      <td>76</td>\n      <td>male</td>\n      <td>right</td>\n      <td>NO</td>\n      <td>NO</td>\n      <td>NO</td>\n      <td>NO</td>\n      <td>NO</td>\n      <td>NO</td>\n    </tr>\n    <tr>\n      <th>0</th>\n      <td>11</td>\n      <td>26</td>\n      <td>171</td>\n      <td>54</td>\n      <td>female</td>\n      <td>right</td>\n      <td>YES</td>\n      <td>NO</td>\n      <td>NO</td>\n      <td>NO</td>\n      <td>NO</td>\n      <td>NO</td>\n    </tr>\n    <tr>\n      <th>0</th>\n      <td>13</td>\n      <td>28</td>\n      <td>181</td>\n      <td>82</td>\n      <td>male</td>\n      <td>right</td>\n      <td>NO</td>\n      <td>NO</td>\n      <td>NO</td>\n      <td>NO</td>\n      <td>NO</td>\n      <td>NO</td>\n    </tr>\n    <tr>\n      <th>0</th>\n      <td>14</td>\n      <td>27</td>\n      <td>180</td>\n      <td>80</td>\n      <td>male</td>\n      <td>right</td>\n      <td>NO</td>\n      <td>NO</td>\n      <td>NO</td>\n      <td>NO</td>\n      <td>NO</td>\n      <td>NO</td>\n    </tr>\n    <tr>\n      <th>0</th>\n      <td>15</td>\n      <td>28</td>\n      <td>186</td>\n      <td>83</td>\n      <td>male</td>\n      <td>right</td>\n      <td>NO</td>\n      <td>NO</td>\n      <td>NO</td>\n      <td>NO</td>\n      <td>NO</td>\n      <td>NO</td>\n    </tr>\n    <tr>\n      <th>0</th>\n      <td>16</td>\n      <td>24</td>\n      <td>184</td>\n      <td>69</td>\n      <td>male</td>\n      <td>right</td>\n      <td>NO</td>\n      <td>NO</td>\n      <td>NO</td>\n      <td>NO</td>\n      <td>NO</td>\n      <td>NO</td>\n    </tr>\n    <tr>\n      <th>0</th>\n      <td>17</td>\n      <td>29</td>\n      <td>165</td>\n      <td>55</td>\n      <td>female</td>\n      <td>right</td>\n      <td>NO</td>\n      <td>NO</td>\n      <td>NO</td>\n      <td>NO</td>\n      <td>NO</td>\n      <td>NO</td>\n    </tr>\n  </tbody>\n</table>\n</div>"
     },
     "execution_count": 27,
     "metadata": {},
     "output_type": "execute_result"
    }
   ],
   "source": [
    "# read the txt readme files\n",
    "\n",
    "demo=pd.DataFrame()\n",
    "\n",
    "numbers=[2,3,4,5,6,7,8,9,10,11,13,14,15,16,17]\n",
    "\n",
    "for i in numbers:\n",
    "    filename = 'data\\WESAD\\S%i\\S%i_readme.txt'%(i,i)\n",
    "\n",
    "#filename = 'data\\WESAD\\S8\\S8_readme.txt'\n",
    "\n",
    "    with open(filename, 'r') as file:\n",
    "        lines = file.readlines()\n",
    "\n",
    "    subject_number = int(os.path.basename(filename).split('S')[1].split('_')[0])\n",
    "    data = {'id': subject_number}\n",
    "    current_header = None\n",
    "\n",
    "    for line in lines:\n",
    "        parts = line.strip().split(':')  # Split using ':' as delimiter\n",
    "        if len(parts) == 1:  # If ':' is not found, split using '?' as delimiter\n",
    "            parts = line.strip().split('?')\n",
    "        if len(parts) > 1:\n",
    "            header = parts[0].strip()  # Extract the column header\n",
    "            value = ':'.join(parts[1:]).strip()  # Join remaining parts as value\n",
    "            data[header] = value\n",
    "\n",
    "    # Create a Pandas DataFrame\n",
    "    user_df = pd.DataFrame([data])\n",
    "    # before the next user, add this user_df to the total dataframe\n",
    "    demo = pd.concat([demo, user_df])\n",
    "\n",
    "demo = demo.drop(columns=['Stress condition / TSST interview part'])\n",
    "demo"
   ],
   "metadata": {
    "collapsed": false,
    "ExecuteTime": {
     "end_time": "2023-08-19T18:55:43.553341300Z",
     "start_time": "2023-08-19T18:55:43.507809800Z"
    }
   }
  },
  {
   "cell_type": "code",
   "execution_count": 28,
   "outputs": [
    {
     "data": {
      "text/plain": "    id  PA_Score  NA_Score\n0    2        20        12\n1    2        24        15\n2    2        15        10\n3    2        31        38\n4    2        23        14\n..  ..       ...       ...\n0   17        20        12\n1   17        24        15\n2   17        15        10\n3   17        31        38\n4   17        23        14\n\n[75 rows x 3 columns]",
      "text/html": "<div>\n<style scoped>\n    .dataframe tbody tr th:only-of-type {\n        vertical-align: middle;\n    }\n\n    .dataframe tbody tr th {\n        vertical-align: top;\n    }\n\n    .dataframe thead th {\n        text-align: right;\n    }\n</style>\n<table border=\"1\" class=\"dataframe\">\n  <thead>\n    <tr style=\"text-align: right;\">\n      <th></th>\n      <th>id</th>\n      <th>PA_Score</th>\n      <th>NA_Score</th>\n    </tr>\n  </thead>\n  <tbody>\n    <tr>\n      <th>0</th>\n      <td>2</td>\n      <td>20</td>\n      <td>12</td>\n    </tr>\n    <tr>\n      <th>1</th>\n      <td>2</td>\n      <td>24</td>\n      <td>15</td>\n    </tr>\n    <tr>\n      <th>2</th>\n      <td>2</td>\n      <td>15</td>\n      <td>10</td>\n    </tr>\n    <tr>\n      <th>3</th>\n      <td>2</td>\n      <td>31</td>\n      <td>38</td>\n    </tr>\n    <tr>\n      <th>4</th>\n      <td>2</td>\n      <td>23</td>\n      <td>14</td>\n    </tr>\n    <tr>\n      <th>...</th>\n      <td>...</td>\n      <td>...</td>\n      <td>...</td>\n    </tr>\n    <tr>\n      <th>0</th>\n      <td>17</td>\n      <td>20</td>\n      <td>12</td>\n    </tr>\n    <tr>\n      <th>1</th>\n      <td>17</td>\n      <td>24</td>\n      <td>15</td>\n    </tr>\n    <tr>\n      <th>2</th>\n      <td>17</td>\n      <td>15</td>\n      <td>10</td>\n    </tr>\n    <tr>\n      <th>3</th>\n      <td>17</td>\n      <td>31</td>\n      <td>38</td>\n    </tr>\n    <tr>\n      <th>4</th>\n      <td>17</td>\n      <td>23</td>\n      <td>14</td>\n    </tr>\n  </tbody>\n</table>\n<p>75 rows × 3 columns</p>\n</div>"
     },
     "execution_count": 28,
     "metadata": {},
     "output_type": "execute_result"
    }
   ],
   "source": [
    "# read the PANAS self questionnaires csv files\n",
    "\n",
    "# PANAS scores can range from 10 to 50, with higher scores representing higher levels of positive or negative affect, respectively.\n",
    "\n",
    "def calculate_panas_scores_from_dataframe(df):\n",
    "\n",
    "    positive_headers = [\"Interested\", \"Inspired\", \"Guilty\", \"Excited\", \"Irritable\", \"Alert\", \"Attentive\", \"Jittery\", \"Afraid\", \"Stressed\"]\n",
    "    negative_headers = [\"Active\", \"Distressed\", \"Annoyed\", \"Strong\", \"Scared\", \"Hostile\", \"Proud\", \"Enthusiastic\", \"Ashamed\", \"Sad\", \"(Angry)\", \"(Irritated)\"]\n",
    "\n",
    "    df[positive_headers + negative_headers] = df[positive_headers + negative_headers].apply(pd.to_numeric, errors='coerce').fillna(0)\n",
    "\n",
    "    pa_score = df[positive_headers].astype(int).sum(axis=1)\n",
    "    na_score = df[negative_headers].astype(int).sum(axis=1)\n",
    "\n",
    "    df['PA_Score'] = pa_score\n",
    "    df['NA_Score'] = na_score\n",
    "\n",
    "    return df\n",
    "\n",
    "numbers=[2,3,4,5,6,7,8,9,10,11,13,14,15,16,17]\n",
    "\n",
    "panas=pd.DataFrame()\n",
    "\n",
    "for user in numbers:\n",
    "    filename = 'data\\WESAD\\S%i\\S%i_quest.csv'%(i,i)\n",
    "    #user_df=pd.DataFrame()\n",
    "\n",
    "    lines_to_read = 5\n",
    "    data = []\n",
    "\n",
    "    header_mapping = {\n",
    "    1: \"Active\",\n",
    "    2: \"Distressed\",\n",
    "    3: \"Interested\",\n",
    "    4: \"Inspired\",\n",
    "    5: \"Annoyed\",\n",
    "    6: \"Strong\",\n",
    "    7: \"Guilty\",\n",
    "    8: \"Scared\",\n",
    "    9: \"Hostile\",\n",
    "    10: \"Excited\",\n",
    "    11: \"Proud\",\n",
    "    12: \"Irritable\",\n",
    "    13: \"Enthusiastic\",\n",
    "    14: \"Ashamed\",\n",
    "    15: \"Alert\",\n",
    "    16: \"Nervous\",\n",
    "    17: \"Determined\",\n",
    "    18: \"Attentive\",\n",
    "    19: \"Jittery\",\n",
    "    20: \"Afraid\",\n",
    "    21: \"Stressed\",\n",
    "    22: \"Frustrated\",\n",
    "    23: \"Happy\",\n",
    "    24: \"Sad\",\n",
    "    25: \"(Angry)\",\n",
    "    26: \"(Irritated)\"\n",
    "}\n",
    "\n",
    "    with open(filename, 'r') as csvfile:\n",
    "        lines_read = 0\n",
    "        for line in csvfile:\n",
    "            if lines_read >= lines_to_read:\n",
    "                break\n",
    "            if line.strip().startswith('# PANAS'):\n",
    "                values = line.strip().split(';')[1:]\n",
    "                data.append(values)\n",
    "                lines_read += 1\n",
    "\n",
    "    user_df = pd.DataFrame(data, columns=[header_mapping[i] for i in range(1, len(data[0]) + 1)])\n",
    "    user_df['id'] = user\n",
    "\n",
    "    # before the next user, add this user_df to the total dataframe\n",
    "    panas = pd.concat([panas, user_df])\n",
    "\n",
    "panas = calculate_panas_scores_from_dataframe(panas)\n",
    "panas = panas.drop(panas.iloc[:, 0:26],axis = 1)\n",
    "\n",
    "panas"
   ],
   "metadata": {
    "collapsed": false,
    "ExecuteTime": {
     "end_time": "2023-08-19T18:55:45.608140500Z",
     "start_time": "2023-08-19T18:55:45.558160700Z"
    }
   }
  },
  {
   "cell_type": "code",
   "execution_count": 29,
   "outputs": [
    {
     "data": {
      "text/plain": "    id stai_stress_category\n0    2        Above average\n1    2        Below average\n2    2        Above average\n3    2              Average\n4    2        Above average\n..  ..                  ...\n0   17        Below average\n1   17        Above average\n2   17        Below average\n3   17              Average\n4   17        Below average\n\n[75 rows x 2 columns]",
      "text/html": "<div>\n<style scoped>\n    .dataframe tbody tr th:only-of-type {\n        vertical-align: middle;\n    }\n\n    .dataframe tbody tr th {\n        vertical-align: top;\n    }\n\n    .dataframe thead th {\n        text-align: right;\n    }\n</style>\n<table border=\"1\" class=\"dataframe\">\n  <thead>\n    <tr style=\"text-align: right;\">\n      <th></th>\n      <th>id</th>\n      <th>stai_stress_category</th>\n    </tr>\n  </thead>\n  <tbody>\n    <tr>\n      <th>0</th>\n      <td>2</td>\n      <td>Above average</td>\n    </tr>\n    <tr>\n      <th>1</th>\n      <td>2</td>\n      <td>Below average</td>\n    </tr>\n    <tr>\n      <th>2</th>\n      <td>2</td>\n      <td>Above average</td>\n    </tr>\n    <tr>\n      <th>3</th>\n      <td>2</td>\n      <td>Average</td>\n    </tr>\n    <tr>\n      <th>4</th>\n      <td>2</td>\n      <td>Above average</td>\n    </tr>\n    <tr>\n      <th>...</th>\n      <td>...</td>\n      <td>...</td>\n    </tr>\n    <tr>\n      <th>0</th>\n      <td>17</td>\n      <td>Below average</td>\n    </tr>\n    <tr>\n      <th>1</th>\n      <td>17</td>\n      <td>Above average</td>\n    </tr>\n    <tr>\n      <th>2</th>\n      <td>17</td>\n      <td>Below average</td>\n    </tr>\n    <tr>\n      <th>3</th>\n      <td>17</td>\n      <td>Average</td>\n    </tr>\n    <tr>\n      <th>4</th>\n      <td>17</td>\n      <td>Below average</td>\n    </tr>\n  </tbody>\n</table>\n<p>75 rows × 2 columns</p>\n</div>"
     },
     "execution_count": 29,
     "metadata": {},
     "output_type": "execute_result"
    }
   ],
   "source": [
    "# read the STAI self questionnaires csv files\n",
    "\n",
    "# to calculate the total stress score simply sum per row\n",
    "\n",
    "numbers=[2,3,4,5,6,7,8,9,10,11,13,14,15,16,17]\n",
    "\n",
    "stai=pd.DataFrame()\n",
    "\n",
    "for user in numbers:\n",
    "    filename = 'data\\WESAD\\S%i\\S%i_quest.csv'%(user,user)\n",
    "\n",
    "    lines_to_read = 5\n",
    "    data = []\n",
    "\n",
    "    with open(filename, 'r') as csvfile:\n",
    "        lines_read = 0\n",
    "        for line in csvfile:\n",
    "            if lines_read >= lines_to_read:\n",
    "                break\n",
    "            if line.strip().startswith('# STAI'):\n",
    "                values = line.strip().split(';')[1:]\n",
    "                data.append(values)\n",
    "                lines_read += 1\n",
    "\n",
    "    user_df = pd.DataFrame(data)\n",
    "    user_df = user_df.iloc[:, 0:6]\n",
    "    user_df['id'] = user\n",
    "\n",
    "    # before the next user, add this user_df to the total dataframe\n",
    "    stai = pd.concat([stai, user_df])\n",
    "\n",
    "for column in stai.columns:\n",
    "    stai[column] = pd.to_numeric(stai[column], errors='coerce')\n",
    "\n",
    "\n",
    "stai['stai_stress'] = stai.iloc[:, 0:6].sum(axis=1)\n",
    "stai = stai.iloc[:, 6:]\n",
    "\n",
    "mean_stai = stai['stai_stress'].mean()\n",
    "std_stai = stai['stai_stress'].std()\n",
    "\n",
    "def get_stai_category(score):\n",
    "    if score < mean_stai-0.5*std_stai:\n",
    "        return \"Below average\"\n",
    "    if score > mean_stai+0.5*std_stai:\n",
    "        return \"Above average\"\n",
    "    return \"Average\"\n",
    "\n",
    "stai['stai_stress_category'] = stai['stai_stress'].apply(lambda score: get_stai_category(score))\n",
    "\n",
    "stai = stai.drop(columns=['stai_stress'])\n",
    "\n",
    "stai"
   ],
   "metadata": {
    "collapsed": false,
    "ExecuteTime": {
     "end_time": "2023-08-19T18:55:48.172556Z",
     "start_time": "2023-08-19T18:55:48.122606800Z"
    }
   }
  },
  {
   "cell_type": "code",
   "execution_count": 30,
   "outputs": [
    {
     "name": "stderr",
     "output_type": "stream",
     "text": [
      "C:\\Users\\Christina\\anaconda3\\lib\\site-packages\\dateutil\\parser\\_parser.py:1207: UnknownTimezoneWarning: tzname EDT identified but not understood.  Pass `tzinfos` argument in order to correctly return a timezone-aware datetime.  In a future version, this will raise an exception.\n",
      "  warnings.warn(\"tzname {tzname} identified but not understood.  \"\n"
     ]
    },
    {
     "data": {
      "text/plain": "           0     1     2                date\n1       32.0  32.0  32.0 2017-05-22 03:15:26\n2       29.0  -6.0  55.0 2017-05-22 03:15:27\n3       28.0  -6.0  55.0 2017-05-22 03:15:28\n4       28.0  -6.0  55.0 2017-05-22 03:15:29\n5       28.0  -6.0  55.0 2017-05-22 03:15:30\n...      ...   ...   ...                 ...\n251967  61.0 -14.0   3.0 2017-05-25 01:14:52\n251968  61.0 -14.0   3.0 2017-05-25 01:14:53\n251969  60.0 -14.0   4.0 2017-05-25 01:14:54\n251970  63.0 -14.0   5.0 2017-05-25 01:14:55\n251971  63.0 -14.0   5.0                 NaT\n\n[251971 rows x 4 columns]",
      "text/html": "<div>\n<style scoped>\n    .dataframe tbody tr th:only-of-type {\n        vertical-align: middle;\n    }\n\n    .dataframe tbody tr th {\n        vertical-align: top;\n    }\n\n    .dataframe thead th {\n        text-align: right;\n    }\n</style>\n<table border=\"1\" class=\"dataframe\">\n  <thead>\n    <tr style=\"text-align: right;\">\n      <th></th>\n      <th>0</th>\n      <th>1</th>\n      <th>2</th>\n      <th>date</th>\n    </tr>\n  </thead>\n  <tbody>\n    <tr>\n      <th>1</th>\n      <td>32.0</td>\n      <td>32.0</td>\n      <td>32.0</td>\n      <td>2017-05-22 03:15:26</td>\n    </tr>\n    <tr>\n      <th>2</th>\n      <td>29.0</td>\n      <td>-6.0</td>\n      <td>55.0</td>\n      <td>2017-05-22 03:15:27</td>\n    </tr>\n    <tr>\n      <th>3</th>\n      <td>28.0</td>\n      <td>-6.0</td>\n      <td>55.0</td>\n      <td>2017-05-22 03:15:28</td>\n    </tr>\n    <tr>\n      <th>4</th>\n      <td>28.0</td>\n      <td>-6.0</td>\n      <td>55.0</td>\n      <td>2017-05-22 03:15:29</td>\n    </tr>\n    <tr>\n      <th>5</th>\n      <td>28.0</td>\n      <td>-6.0</td>\n      <td>55.0</td>\n      <td>2017-05-22 03:15:30</td>\n    </tr>\n    <tr>\n      <th>...</th>\n      <td>...</td>\n      <td>...</td>\n      <td>...</td>\n      <td>...</td>\n    </tr>\n    <tr>\n      <th>251967</th>\n      <td>61.0</td>\n      <td>-14.0</td>\n      <td>3.0</td>\n      <td>2017-05-25 01:14:52</td>\n    </tr>\n    <tr>\n      <th>251968</th>\n      <td>61.0</td>\n      <td>-14.0</td>\n      <td>3.0</td>\n      <td>2017-05-25 01:14:53</td>\n    </tr>\n    <tr>\n      <th>251969</th>\n      <td>60.0</td>\n      <td>-14.0</td>\n      <td>4.0</td>\n      <td>2017-05-25 01:14:54</td>\n    </tr>\n    <tr>\n      <th>251970</th>\n      <td>63.0</td>\n      <td>-14.0</td>\n      <td>5.0</td>\n      <td>2017-05-25 01:14:55</td>\n    </tr>\n    <tr>\n      <th>251971</th>\n      <td>63.0</td>\n      <td>-14.0</td>\n      <td>5.0</td>\n      <td>NaT</td>\n    </tr>\n  </tbody>\n</table>\n<p>251971 rows × 4 columns</p>\n</div>"
     },
     "execution_count": 30,
     "metadata": {},
     "output_type": "execute_result"
    }
   ],
   "source": [
    "def adds_date_column(df):\n",
    "    timestamp_utc = df.iloc[0, 0]\n",
    "    datetime_utc = datetime.datetime.utcfromtimestamp(timestamp_utc)\n",
    "    datetime_utc = datetime_utc.replace(tzinfo=pytz.utc)\n",
    "    target_timezone = pytz.timezone('America/New_York')\n",
    "    datetime_local = datetime_utc.astimezone(target_timezone)\n",
    "    df['Date'] = datetime_local.strftime('%Y-%m-%d %H:%M:%S %Z')\n",
    "    e4_acc = e4_acc.iloc[1:]\n",
    "    starting_date = e4_acc.iloc[0,3]\n",
    "    num_rows = e4_acc.shape[0]\n",
    "    date_range = pd.date_range(start=starting_date, periods=num_rows, freq='S')\n",
    "    e4_acc['date'] = pd.DataFrame({'date': date_range})\n",
    "    e4_acc = e4_acc.drop(columns=\"Date\")\n",
    "\n",
    "\n",
    "\n",
    "# read E4 data\n",
    "e4_acc = pd.read_csv('data\\WESAD\\S2\\S2_E4_Data\\ACC.csv', header=None)\n",
    "timestamp_utc = e4_acc.iloc[0, 0]\n",
    "datetime_utc = datetime.datetime.utcfromtimestamp(timestamp_utc)\n",
    "datetime_utc = datetime_utc.replace(tzinfo=pytz.utc)\n",
    "target_timezone = pytz.timezone('America/New_York')\n",
    "datetime_local = datetime_utc.astimezone(target_timezone)\n",
    "e4_acc['Date'] = datetime_local.strftime('%Y-%m-%d %H:%M:%S %Z')\n",
    "e4_acc = e4_acc.iloc[1:]\n",
    "starting_date = e4_acc.iloc[0,3]\n",
    "num_rows = e4_acc.shape[0]\n",
    "date_range = pd.date_range(start=starting_date, periods=num_rows, freq='S')\n",
    "e4_acc['date'] = pd.DataFrame({'date': date_range})\n",
    "e4_acc = e4_acc.drop(columns=\"Date\")\n",
    "e4 = pd.DataFrame()\n",
    "e4 = pd.concat([e4, e4_acc])\n",
    "e4"
   ],
   "metadata": {
    "collapsed": false,
    "ExecuteTime": {
     "end_time": "2023-08-19T18:55:53.393084100Z",
     "start_time": "2023-08-19T18:55:53.309950800Z"
    }
   }
  },
  {
   "cell_type": "code",
   "execution_count": 20,
   "outputs": [
    {
     "data": {
      "text/plain": "            EDA\n0      4.000000\n1      0.000000\n2      0.328021\n3      0.410026\n4      0.433090\n...         ...\n31490  0.409011\n31491  0.397480\n31492  0.389792\n31493  0.387229\n31494  0.415418\n\n[31495 rows x 1 columns]",
      "text/html": "<div>\n<style scoped>\n    .dataframe tbody tr th:only-of-type {\n        vertical-align: middle;\n    }\n\n    .dataframe tbody tr th {\n        vertical-align: top;\n    }\n\n    .dataframe thead th {\n        text-align: right;\n    }\n</style>\n<table border=\"1\" class=\"dataframe\">\n  <thead>\n    <tr style=\"text-align: right;\">\n      <th></th>\n      <th>EDA</th>\n    </tr>\n  </thead>\n  <tbody>\n    <tr>\n      <th>0</th>\n      <td>4.000000</td>\n    </tr>\n    <tr>\n      <th>1</th>\n      <td>0.000000</td>\n    </tr>\n    <tr>\n      <th>2</th>\n      <td>0.328021</td>\n    </tr>\n    <tr>\n      <th>3</th>\n      <td>0.410026</td>\n    </tr>\n    <tr>\n      <th>4</th>\n      <td>0.433090</td>\n    </tr>\n    <tr>\n      <th>...</th>\n      <td>...</td>\n    </tr>\n    <tr>\n      <th>31490</th>\n      <td>0.409011</td>\n    </tr>\n    <tr>\n      <th>31491</th>\n      <td>0.397480</td>\n    </tr>\n    <tr>\n      <th>31492</th>\n      <td>0.389792</td>\n    </tr>\n    <tr>\n      <th>31493</th>\n      <td>0.387229</td>\n    </tr>\n    <tr>\n      <th>31494</th>\n      <td>0.415418</td>\n    </tr>\n  </tbody>\n</table>\n<p>31495 rows × 1 columns</p>\n</div>"
     },
     "execution_count": 20,
     "metadata": {},
     "output_type": "execute_result"
    }
   ],
   "source": [
    "e4_eda = pd.read_csv('data\\WESAD\\S2\\S2_E4_Data\\EDA.csv', header=None, skiprows=1)\n",
    "e4_eda = e4_eda.rename(columns={e4_eda.columns[0]: 'EDA'})\n",
    "e4_eda"
   ],
   "metadata": {
    "collapsed": false,
    "ExecuteTime": {
     "end_time": "2023-08-19T18:48:38.292062100Z",
     "start_time": "2023-08-19T18:48:38.233365500Z"
    }
   }
  },
  {
   "cell_type": "code",
   "execution_count": 21,
   "outputs": [
    {
     "data": {
      "text/plain": "          BVP\n0       64.00\n1       -0.00\n2       -0.00\n3       -0.00\n4       -0.00\n...       ...\n503939  96.51\n503940  92.92\n503941  85.61\n503942  75.98\n503943  65.86\n\n[503944 rows x 1 columns]",
      "text/html": "<div>\n<style scoped>\n    .dataframe tbody tr th:only-of-type {\n        vertical-align: middle;\n    }\n\n    .dataframe tbody tr th {\n        vertical-align: top;\n    }\n\n    .dataframe thead th {\n        text-align: right;\n    }\n</style>\n<table border=\"1\" class=\"dataframe\">\n  <thead>\n    <tr style=\"text-align: right;\">\n      <th></th>\n      <th>BVP</th>\n    </tr>\n  </thead>\n  <tbody>\n    <tr>\n      <th>0</th>\n      <td>64.00</td>\n    </tr>\n    <tr>\n      <th>1</th>\n      <td>-0.00</td>\n    </tr>\n    <tr>\n      <th>2</th>\n      <td>-0.00</td>\n    </tr>\n    <tr>\n      <th>3</th>\n      <td>-0.00</td>\n    </tr>\n    <tr>\n      <th>4</th>\n      <td>-0.00</td>\n    </tr>\n    <tr>\n      <th>...</th>\n      <td>...</td>\n    </tr>\n    <tr>\n      <th>503939</th>\n      <td>96.51</td>\n    </tr>\n    <tr>\n      <th>503940</th>\n      <td>92.92</td>\n    </tr>\n    <tr>\n      <th>503941</th>\n      <td>85.61</td>\n    </tr>\n    <tr>\n      <th>503942</th>\n      <td>75.98</td>\n    </tr>\n    <tr>\n      <th>503943</th>\n      <td>65.86</td>\n    </tr>\n  </tbody>\n</table>\n<p>503944 rows × 1 columns</p>\n</div>"
     },
     "execution_count": 21,
     "metadata": {},
     "output_type": "execute_result"
    }
   ],
   "source": [
    "e4_bvp = pd.read_csv('data\\WESAD\\S2\\S2_E4_Data\\BVP.csv', header=None, skiprows=1)\n",
    "e4_bvp = e4_bvp.rename(columns={e4_bvp.columns[0]: 'BVP'})\n",
    "e4_bvp"
   ],
   "metadata": {
    "collapsed": false,
    "ExecuteTime": {
     "end_time": "2023-08-19T18:48:39.570409500Z",
     "start_time": "2023-08-19T18:48:39.510986Z"
    }
   }
  },
  {
   "cell_type": "code",
   "execution_count": null,
   "outputs": [],
   "source": [],
   "metadata": {
    "collapsed": false
   }
  }
 ],
 "metadata": {
  "kernelspec": {
   "display_name": "Python 3",
   "language": "python",
   "name": "python3"
  },
  "language_info": {
   "codemirror_mode": {
    "name": "ipython",
    "version": 2
   },
   "file_extension": ".py",
   "mimetype": "text/x-python",
   "name": "python",
   "nbconvert_exporter": "python",
   "pygments_lexer": "ipython2",
   "version": "2.7.6"
  }
 },
 "nbformat": 4,
 "nbformat_minor": 0
}
