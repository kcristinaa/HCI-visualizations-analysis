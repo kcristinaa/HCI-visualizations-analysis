{
 "cells": [
  {
   "cell_type": "code",
   "execution_count": 19,
   "metadata": {
    "collapsed": true,
    "ExecuteTime": {
     "end_time": "2023-09-16T19:32:53.487481800Z",
     "start_time": "2023-09-16T19:32:53.463882500Z"
    }
   },
   "outputs": [],
   "source": [
    "from dataprep.eda import create_report\n",
    "import pandas as pd\n",
    "import numpy as np"
   ]
  },
  {
   "cell_type": "code",
   "execution_count": 20,
   "outputs": [
    {
     "data": {
      "text/plain": "       Unnamed: 0  id             datetime  hour  Age  Height (cm)  \\\n0               0   2  2017-05-22 03:00:00   3.0   27          175   \n1               1   2  2017-05-22 04:00:00   4.0   27          175   \n2               2   2  2017-05-22 05:00:00   5.0   27          175   \n3               3   2  2017-05-22 06:00:00   6.0   27          175   \n4               4   2  2017-05-22 07:00:00   7.0   27          175   \n...           ...  ..                  ...   ...  ...          ...   \n47845       47845  17  2017-08-16 07:00:00   7.0   29          165   \n47846       47846  17  2017-08-16 08:00:00   8.0   29          165   \n47847       47847  17  2017-08-16 09:00:00   9.0   29          165   \n47848       47848  17  2017-08-16 10:00:00  10.0   29          165   \n47849       47849  17  2017-08-16 11:00:00  11.0   29          165   \n\n       Weight (kg)  Gender Dominant hand Did you drink coffee today  ...  \\\n0               80    male         right                         NO  ...   \n1               80    male         right                         NO  ...   \n2               80    male         right                         NO  ...   \n3               80    male         right                         NO  ...   \n4               80    male         right                         NO  ...   \n...            ...     ...           ...                        ...  ...   \n47845           55  female         right                         NO  ...   \n47846           55  female         right                         NO  ...   \n47847           55  female         right                         NO  ...   \n47848           55  female         right                         NO  ...   \n47849           55  female         right                         NO  ...   \n\n      PA_Score NA_Score stai_stress_category          0          1          2  \\\n0           20       12        Above average  33.194839 -20.779731  27.586761   \n1           20       12        Above average  41.321111 -30.715278  -0.680556   \n2           20       12        Above average  42.177500 -44.416667  -1.042778   \n3           20       12        Above average  30.669167 -44.639167  13.186111   \n4           20       12        Above average  30.708889 -29.134167   0.261667   \n...        ...      ...                  ...        ...        ...        ...   \n47845       23       14        Below average -46.000000  -2.000000  11.000000   \n47846       23       14        Below average -46.000000  -2.000000  11.000000   \n47847       23       14        Below average -46.000000  -2.000000  11.000000   \n47848       23       14        Below average -46.000000  -2.000000  11.000000   \n47849       23       14        Below average -46.000000  -2.000000  11.000000   \n\n            EDA       BVP         HR       TEMP  \n0      0.979370 -2.051485  78.873504  35.861821  \n1      1.349422  2.302322  74.118131  35.411183  \n2      0.668645 -1.572761  72.132161  35.776811  \n3      0.138875  0.819792  73.100000  35.577078  \n4      0.583789  0.028806  73.100000  34.218989  \n...         ...       ...        ...        ...  \n47845  1.038622  0.110508  71.680000  32.830000  \n47846  1.038622  0.038244  71.680000  32.830000  \n47847  1.038622  0.009639  71.680000  32.830000  \n47848  1.038622 -0.300889  71.680000  32.830000  \n47849  1.038622 -0.001703  71.680000  32.830000  \n\n[47850 rows x 25 columns]",
      "text/html": "<div>\n<style scoped>\n    .dataframe tbody tr th:only-of-type {\n        vertical-align: middle;\n    }\n\n    .dataframe tbody tr th {\n        vertical-align: top;\n    }\n\n    .dataframe thead th {\n        text-align: right;\n    }\n</style>\n<table border=\"1\" class=\"dataframe\">\n  <thead>\n    <tr style=\"text-align: right;\">\n      <th></th>\n      <th>Unnamed: 0</th>\n      <th>id</th>\n      <th>datetime</th>\n      <th>hour</th>\n      <th>Age</th>\n      <th>Height (cm)</th>\n      <th>Weight (kg)</th>\n      <th>Gender</th>\n      <th>Dominant hand</th>\n      <th>Did you drink coffee today</th>\n      <th>...</th>\n      <th>PA_Score</th>\n      <th>NA_Score</th>\n      <th>stai_stress_category</th>\n      <th>0</th>\n      <th>1</th>\n      <th>2</th>\n      <th>EDA</th>\n      <th>BVP</th>\n      <th>HR</th>\n      <th>TEMP</th>\n    </tr>\n  </thead>\n  <tbody>\n    <tr>\n      <th>0</th>\n      <td>0</td>\n      <td>2</td>\n      <td>2017-05-22 03:00:00</td>\n      <td>3.0</td>\n      <td>27</td>\n      <td>175</td>\n      <td>80</td>\n      <td>male</td>\n      <td>right</td>\n      <td>NO</td>\n      <td>...</td>\n      <td>20</td>\n      <td>12</td>\n      <td>Above average</td>\n      <td>33.194839</td>\n      <td>-20.779731</td>\n      <td>27.586761</td>\n      <td>0.979370</td>\n      <td>-2.051485</td>\n      <td>78.873504</td>\n      <td>35.861821</td>\n    </tr>\n    <tr>\n      <th>1</th>\n      <td>1</td>\n      <td>2</td>\n      <td>2017-05-22 04:00:00</td>\n      <td>4.0</td>\n      <td>27</td>\n      <td>175</td>\n      <td>80</td>\n      <td>male</td>\n      <td>right</td>\n      <td>NO</td>\n      <td>...</td>\n      <td>20</td>\n      <td>12</td>\n      <td>Above average</td>\n      <td>41.321111</td>\n      <td>-30.715278</td>\n      <td>-0.680556</td>\n      <td>1.349422</td>\n      <td>2.302322</td>\n      <td>74.118131</td>\n      <td>35.411183</td>\n    </tr>\n    <tr>\n      <th>2</th>\n      <td>2</td>\n      <td>2</td>\n      <td>2017-05-22 05:00:00</td>\n      <td>5.0</td>\n      <td>27</td>\n      <td>175</td>\n      <td>80</td>\n      <td>male</td>\n      <td>right</td>\n      <td>NO</td>\n      <td>...</td>\n      <td>20</td>\n      <td>12</td>\n      <td>Above average</td>\n      <td>42.177500</td>\n      <td>-44.416667</td>\n      <td>-1.042778</td>\n      <td>0.668645</td>\n      <td>-1.572761</td>\n      <td>72.132161</td>\n      <td>35.776811</td>\n    </tr>\n    <tr>\n      <th>3</th>\n      <td>3</td>\n      <td>2</td>\n      <td>2017-05-22 06:00:00</td>\n      <td>6.0</td>\n      <td>27</td>\n      <td>175</td>\n      <td>80</td>\n      <td>male</td>\n      <td>right</td>\n      <td>NO</td>\n      <td>...</td>\n      <td>20</td>\n      <td>12</td>\n      <td>Above average</td>\n      <td>30.669167</td>\n      <td>-44.639167</td>\n      <td>13.186111</td>\n      <td>0.138875</td>\n      <td>0.819792</td>\n      <td>73.100000</td>\n      <td>35.577078</td>\n    </tr>\n    <tr>\n      <th>4</th>\n      <td>4</td>\n      <td>2</td>\n      <td>2017-05-22 07:00:00</td>\n      <td>7.0</td>\n      <td>27</td>\n      <td>175</td>\n      <td>80</td>\n      <td>male</td>\n      <td>right</td>\n      <td>NO</td>\n      <td>...</td>\n      <td>20</td>\n      <td>12</td>\n      <td>Above average</td>\n      <td>30.708889</td>\n      <td>-29.134167</td>\n      <td>0.261667</td>\n      <td>0.583789</td>\n      <td>0.028806</td>\n      <td>73.100000</td>\n      <td>34.218989</td>\n    </tr>\n    <tr>\n      <th>...</th>\n      <td>...</td>\n      <td>...</td>\n      <td>...</td>\n      <td>...</td>\n      <td>...</td>\n      <td>...</td>\n      <td>...</td>\n      <td>...</td>\n      <td>...</td>\n      <td>...</td>\n      <td>...</td>\n      <td>...</td>\n      <td>...</td>\n      <td>...</td>\n      <td>...</td>\n      <td>...</td>\n      <td>...</td>\n      <td>...</td>\n      <td>...</td>\n      <td>...</td>\n      <td>...</td>\n    </tr>\n    <tr>\n      <th>47845</th>\n      <td>47845</td>\n      <td>17</td>\n      <td>2017-08-16 07:00:00</td>\n      <td>7.0</td>\n      <td>29</td>\n      <td>165</td>\n      <td>55</td>\n      <td>female</td>\n      <td>right</td>\n      <td>NO</td>\n      <td>...</td>\n      <td>23</td>\n      <td>14</td>\n      <td>Below average</td>\n      <td>-46.000000</td>\n      <td>-2.000000</td>\n      <td>11.000000</td>\n      <td>1.038622</td>\n      <td>0.110508</td>\n      <td>71.680000</td>\n      <td>32.830000</td>\n    </tr>\n    <tr>\n      <th>47846</th>\n      <td>47846</td>\n      <td>17</td>\n      <td>2017-08-16 08:00:00</td>\n      <td>8.0</td>\n      <td>29</td>\n      <td>165</td>\n      <td>55</td>\n      <td>female</td>\n      <td>right</td>\n      <td>NO</td>\n      <td>...</td>\n      <td>23</td>\n      <td>14</td>\n      <td>Below average</td>\n      <td>-46.000000</td>\n      <td>-2.000000</td>\n      <td>11.000000</td>\n      <td>1.038622</td>\n      <td>0.038244</td>\n      <td>71.680000</td>\n      <td>32.830000</td>\n    </tr>\n    <tr>\n      <th>47847</th>\n      <td>47847</td>\n      <td>17</td>\n      <td>2017-08-16 09:00:00</td>\n      <td>9.0</td>\n      <td>29</td>\n      <td>165</td>\n      <td>55</td>\n      <td>female</td>\n      <td>right</td>\n      <td>NO</td>\n      <td>...</td>\n      <td>23</td>\n      <td>14</td>\n      <td>Below average</td>\n      <td>-46.000000</td>\n      <td>-2.000000</td>\n      <td>11.000000</td>\n      <td>1.038622</td>\n      <td>0.009639</td>\n      <td>71.680000</td>\n      <td>32.830000</td>\n    </tr>\n    <tr>\n      <th>47848</th>\n      <td>47848</td>\n      <td>17</td>\n      <td>2017-08-16 10:00:00</td>\n      <td>10.0</td>\n      <td>29</td>\n      <td>165</td>\n      <td>55</td>\n      <td>female</td>\n      <td>right</td>\n      <td>NO</td>\n      <td>...</td>\n      <td>23</td>\n      <td>14</td>\n      <td>Below average</td>\n      <td>-46.000000</td>\n      <td>-2.000000</td>\n      <td>11.000000</td>\n      <td>1.038622</td>\n      <td>-0.300889</td>\n      <td>71.680000</td>\n      <td>32.830000</td>\n    </tr>\n    <tr>\n      <th>47849</th>\n      <td>47849</td>\n      <td>17</td>\n      <td>2017-08-16 11:00:00</td>\n      <td>11.0</td>\n      <td>29</td>\n      <td>165</td>\n      <td>55</td>\n      <td>female</td>\n      <td>right</td>\n      <td>NO</td>\n      <td>...</td>\n      <td>23</td>\n      <td>14</td>\n      <td>Below average</td>\n      <td>-46.000000</td>\n      <td>-2.000000</td>\n      <td>11.000000</td>\n      <td>1.038622</td>\n      <td>-0.001703</td>\n      <td>71.680000</td>\n      <td>32.830000</td>\n    </tr>\n  </tbody>\n</table>\n<p>47850 rows × 25 columns</p>\n</div>"
     },
     "execution_count": 20,
     "metadata": {},
     "output_type": "execute_result"
    }
   ],
   "source": [
    "df = pd.read_csv('data\\data_total.csv')\n",
    "df"
   ],
   "metadata": {
    "collapsed": false,
    "ExecuteTime": {
     "end_time": "2023-09-16T19:32:53.909502900Z",
     "start_time": "2023-09-16T19:32:53.746761100Z"
    }
   }
  },
  {
   "cell_type": "code",
   "execution_count": 21,
   "outputs": [],
   "source": [
    "#report = create_report(df, title='total-data')\n",
    "#report.save()"
   ],
   "metadata": {
    "collapsed": false,
    "ExecuteTime": {
     "end_time": "2023-09-16T19:32:54.080016100Z",
     "start_time": "2023-09-16T19:32:54.032370300Z"
    }
   }
  },
  {
   "cell_type": "code",
   "execution_count": 22,
   "outputs": [
    {
     "data": {
      "text/plain": "Index(['Unnamed: 0', 'id', 'datetime', 'hour', 'Age', 'Height (cm)',\n       'Weight (kg)', 'Gender', 'Dominant hand', 'Did you drink coffee today',\n       'Did you drink coffee within the last hour',\n       'Did you do any sports today', 'Are you a smoker',\n       'Did you smoke within the last hour', 'Do you feel ill today',\n       'PA_Score', 'NA_Score', 'stai_stress_category', '0', '1', '2', 'EDA',\n       'BVP', 'HR', 'TEMP'],\n      dtype='object')"
     },
     "execution_count": 22,
     "metadata": {},
     "output_type": "execute_result"
    }
   ],
   "source": [
    "df.columns"
   ],
   "metadata": {
    "collapsed": false,
    "ExecuteTime": {
     "end_time": "2023-09-16T19:32:54.409623700Z",
     "start_time": "2023-09-16T19:32:54.380204800Z"
    }
   }
  },
  {
   "cell_type": "code",
   "execution_count": 23,
   "outputs": [
    {
     "data": {
      "text/plain": "       Unnamed: 0  id             datetime  hour  Age  Height (cm)  \\\n0               0   2  2017-05-22 03:00:00   3.0   27          175   \n1               1   2  2017-05-22 04:00:00   4.0   27          175   \n2               2   2  2017-05-22 05:00:00   5.0   27          175   \n3               3   2  2017-05-22 06:00:00   6.0   27          175   \n4               4   2  2017-05-22 07:00:00   7.0   27          175   \n...           ...  ..                  ...   ...  ...          ...   \n47845       47845  17  2017-08-16 07:00:00   7.0   29          165   \n47846       47846  17  2017-08-16 08:00:00   8.0   29          165   \n47847       47847  17  2017-08-16 09:00:00   9.0   29          165   \n47848       47848  17  2017-08-16 10:00:00  10.0   29          165   \n47849       47849  17  2017-08-16 11:00:00  11.0   29          165   \n\n       Weight (kg)  Gender Dominant hand Did you drink coffee today  ...  \\\n0               80    male         right                         NO  ...   \n1               80    male         right                         NO  ...   \n2               80    male         right                         NO  ...   \n3               80    male         right                         NO  ...   \n4               80    male         right                         NO  ...   \n...            ...     ...           ...                        ...  ...   \n47845           55  female         right                         NO  ...   \n47846           55  female         right                         NO  ...   \n47847           55  female         right                         NO  ...   \n47848           55  female         right                         NO  ...   \n47849           55  female         right                         NO  ...   \n\n      stai_stress_category          0          1          2       EDA  \\\n0            Above average  33.194839 -20.779731  27.586761  0.979370   \n1            Above average  41.321111 -30.715278  -0.680556  1.349422   \n2            Above average  42.177500 -44.416667  -1.042778  0.668645   \n3            Above average  30.669167 -44.639167  13.186111  0.138875   \n4            Above average  30.708889 -29.134167   0.261667  0.583789   \n...                    ...        ...        ...        ...       ...   \n47845        Below average -46.000000  -2.000000  11.000000  1.038622   \n47846        Below average -46.000000  -2.000000  11.000000  1.038622   \n47847        Below average -46.000000  -2.000000  11.000000  1.038622   \n47848        Below average -46.000000  -2.000000  11.000000  1.038622   \n47849        Below average -46.000000  -2.000000  11.000000  1.038622   \n\n            BVP         HR       TEMP  Height (m)        BMI  \n0     -2.051485  78.873504  35.861821        1.75  26.122449  \n1      2.302322  74.118131  35.411183        1.75  26.122449  \n2     -1.572761  72.132161  35.776811        1.75  26.122449  \n3      0.819792  73.100000  35.577078        1.75  26.122449  \n4      0.028806  73.100000  34.218989        1.75  26.122449  \n...         ...        ...        ...         ...        ...  \n47845  0.110508  71.680000  32.830000        1.65  20.202020  \n47846  0.038244  71.680000  32.830000        1.65  20.202020  \n47847  0.009639  71.680000  32.830000        1.65  20.202020  \n47848 -0.300889  71.680000  32.830000        1.65  20.202020  \n47849 -0.001703  71.680000  32.830000        1.65  20.202020  \n\n[47850 rows x 27 columns]",
      "text/html": "<div>\n<style scoped>\n    .dataframe tbody tr th:only-of-type {\n        vertical-align: middle;\n    }\n\n    .dataframe tbody tr th {\n        vertical-align: top;\n    }\n\n    .dataframe thead th {\n        text-align: right;\n    }\n</style>\n<table border=\"1\" class=\"dataframe\">\n  <thead>\n    <tr style=\"text-align: right;\">\n      <th></th>\n      <th>Unnamed: 0</th>\n      <th>id</th>\n      <th>datetime</th>\n      <th>hour</th>\n      <th>Age</th>\n      <th>Height (cm)</th>\n      <th>Weight (kg)</th>\n      <th>Gender</th>\n      <th>Dominant hand</th>\n      <th>Did you drink coffee today</th>\n      <th>...</th>\n      <th>stai_stress_category</th>\n      <th>0</th>\n      <th>1</th>\n      <th>2</th>\n      <th>EDA</th>\n      <th>BVP</th>\n      <th>HR</th>\n      <th>TEMP</th>\n      <th>Height (m)</th>\n      <th>BMI</th>\n    </tr>\n  </thead>\n  <tbody>\n    <tr>\n      <th>0</th>\n      <td>0</td>\n      <td>2</td>\n      <td>2017-05-22 03:00:00</td>\n      <td>3.0</td>\n      <td>27</td>\n      <td>175</td>\n      <td>80</td>\n      <td>male</td>\n      <td>right</td>\n      <td>NO</td>\n      <td>...</td>\n      <td>Above average</td>\n      <td>33.194839</td>\n      <td>-20.779731</td>\n      <td>27.586761</td>\n      <td>0.979370</td>\n      <td>-2.051485</td>\n      <td>78.873504</td>\n      <td>35.861821</td>\n      <td>1.75</td>\n      <td>26.122449</td>\n    </tr>\n    <tr>\n      <th>1</th>\n      <td>1</td>\n      <td>2</td>\n      <td>2017-05-22 04:00:00</td>\n      <td>4.0</td>\n      <td>27</td>\n      <td>175</td>\n      <td>80</td>\n      <td>male</td>\n      <td>right</td>\n      <td>NO</td>\n      <td>...</td>\n      <td>Above average</td>\n      <td>41.321111</td>\n      <td>-30.715278</td>\n      <td>-0.680556</td>\n      <td>1.349422</td>\n      <td>2.302322</td>\n      <td>74.118131</td>\n      <td>35.411183</td>\n      <td>1.75</td>\n      <td>26.122449</td>\n    </tr>\n    <tr>\n      <th>2</th>\n      <td>2</td>\n      <td>2</td>\n      <td>2017-05-22 05:00:00</td>\n      <td>5.0</td>\n      <td>27</td>\n      <td>175</td>\n      <td>80</td>\n      <td>male</td>\n      <td>right</td>\n      <td>NO</td>\n      <td>...</td>\n      <td>Above average</td>\n      <td>42.177500</td>\n      <td>-44.416667</td>\n      <td>-1.042778</td>\n      <td>0.668645</td>\n      <td>-1.572761</td>\n      <td>72.132161</td>\n      <td>35.776811</td>\n      <td>1.75</td>\n      <td>26.122449</td>\n    </tr>\n    <tr>\n      <th>3</th>\n      <td>3</td>\n      <td>2</td>\n      <td>2017-05-22 06:00:00</td>\n      <td>6.0</td>\n      <td>27</td>\n      <td>175</td>\n      <td>80</td>\n      <td>male</td>\n      <td>right</td>\n      <td>NO</td>\n      <td>...</td>\n      <td>Above average</td>\n      <td>30.669167</td>\n      <td>-44.639167</td>\n      <td>13.186111</td>\n      <td>0.138875</td>\n      <td>0.819792</td>\n      <td>73.100000</td>\n      <td>35.577078</td>\n      <td>1.75</td>\n      <td>26.122449</td>\n    </tr>\n    <tr>\n      <th>4</th>\n      <td>4</td>\n      <td>2</td>\n      <td>2017-05-22 07:00:00</td>\n      <td>7.0</td>\n      <td>27</td>\n      <td>175</td>\n      <td>80</td>\n      <td>male</td>\n      <td>right</td>\n      <td>NO</td>\n      <td>...</td>\n      <td>Above average</td>\n      <td>30.708889</td>\n      <td>-29.134167</td>\n      <td>0.261667</td>\n      <td>0.583789</td>\n      <td>0.028806</td>\n      <td>73.100000</td>\n      <td>34.218989</td>\n      <td>1.75</td>\n      <td>26.122449</td>\n    </tr>\n    <tr>\n      <th>...</th>\n      <td>...</td>\n      <td>...</td>\n      <td>...</td>\n      <td>...</td>\n      <td>...</td>\n      <td>...</td>\n      <td>...</td>\n      <td>...</td>\n      <td>...</td>\n      <td>...</td>\n      <td>...</td>\n      <td>...</td>\n      <td>...</td>\n      <td>...</td>\n      <td>...</td>\n      <td>...</td>\n      <td>...</td>\n      <td>...</td>\n      <td>...</td>\n      <td>...</td>\n      <td>...</td>\n    </tr>\n    <tr>\n      <th>47845</th>\n      <td>47845</td>\n      <td>17</td>\n      <td>2017-08-16 07:00:00</td>\n      <td>7.0</td>\n      <td>29</td>\n      <td>165</td>\n      <td>55</td>\n      <td>female</td>\n      <td>right</td>\n      <td>NO</td>\n      <td>...</td>\n      <td>Below average</td>\n      <td>-46.000000</td>\n      <td>-2.000000</td>\n      <td>11.000000</td>\n      <td>1.038622</td>\n      <td>0.110508</td>\n      <td>71.680000</td>\n      <td>32.830000</td>\n      <td>1.65</td>\n      <td>20.202020</td>\n    </tr>\n    <tr>\n      <th>47846</th>\n      <td>47846</td>\n      <td>17</td>\n      <td>2017-08-16 08:00:00</td>\n      <td>8.0</td>\n      <td>29</td>\n      <td>165</td>\n      <td>55</td>\n      <td>female</td>\n      <td>right</td>\n      <td>NO</td>\n      <td>...</td>\n      <td>Below average</td>\n      <td>-46.000000</td>\n      <td>-2.000000</td>\n      <td>11.000000</td>\n      <td>1.038622</td>\n      <td>0.038244</td>\n      <td>71.680000</td>\n      <td>32.830000</td>\n      <td>1.65</td>\n      <td>20.202020</td>\n    </tr>\n    <tr>\n      <th>47847</th>\n      <td>47847</td>\n      <td>17</td>\n      <td>2017-08-16 09:00:00</td>\n      <td>9.0</td>\n      <td>29</td>\n      <td>165</td>\n      <td>55</td>\n      <td>female</td>\n      <td>right</td>\n      <td>NO</td>\n      <td>...</td>\n      <td>Below average</td>\n      <td>-46.000000</td>\n      <td>-2.000000</td>\n      <td>11.000000</td>\n      <td>1.038622</td>\n      <td>0.009639</td>\n      <td>71.680000</td>\n      <td>32.830000</td>\n      <td>1.65</td>\n      <td>20.202020</td>\n    </tr>\n    <tr>\n      <th>47848</th>\n      <td>47848</td>\n      <td>17</td>\n      <td>2017-08-16 10:00:00</td>\n      <td>10.0</td>\n      <td>29</td>\n      <td>165</td>\n      <td>55</td>\n      <td>female</td>\n      <td>right</td>\n      <td>NO</td>\n      <td>...</td>\n      <td>Below average</td>\n      <td>-46.000000</td>\n      <td>-2.000000</td>\n      <td>11.000000</td>\n      <td>1.038622</td>\n      <td>-0.300889</td>\n      <td>71.680000</td>\n      <td>32.830000</td>\n      <td>1.65</td>\n      <td>20.202020</td>\n    </tr>\n    <tr>\n      <th>47849</th>\n      <td>47849</td>\n      <td>17</td>\n      <td>2017-08-16 11:00:00</td>\n      <td>11.0</td>\n      <td>29</td>\n      <td>165</td>\n      <td>55</td>\n      <td>female</td>\n      <td>right</td>\n      <td>NO</td>\n      <td>...</td>\n      <td>Below average</td>\n      <td>-46.000000</td>\n      <td>-2.000000</td>\n      <td>11.000000</td>\n      <td>1.038622</td>\n      <td>-0.001703</td>\n      <td>71.680000</td>\n      <td>32.830000</td>\n      <td>1.65</td>\n      <td>20.202020</td>\n    </tr>\n  </tbody>\n</table>\n<p>47850 rows × 27 columns</p>\n</div>"
     },
     "execution_count": 23,
     "metadata": {},
     "output_type": "execute_result"
    }
   ],
   "source": [
    "df['Height (m)'] = (df['Height (cm)'] / 100)\n",
    "df['BMI'] = df['Weight (kg)'] / df['Height (m)']**2\n",
    "df"
   ],
   "metadata": {
    "collapsed": false,
    "ExecuteTime": {
     "end_time": "2023-09-16T19:32:54.767153500Z",
     "start_time": "2023-09-16T19:32:54.713637300Z"
    }
   }
  },
  {
   "cell_type": "code",
   "execution_count": 24,
   "outputs": [
    {
     "data": {
      "text/plain": "22.837370    3725\n29.387755    3575\n26.122449    3525\n23.054562    3450\n22.395790    3375\n20.202020    3225\n20.380435    3200\n24.691358    3125\n25.029761    3075\n23.986870    3050\n21.633315    2975\n23.991213    2975\n21.857278    2900\n18.467221    2900\n22.893074    2775\nName: BMI, dtype: int64"
     },
     "execution_count": 24,
     "metadata": {},
     "output_type": "execute_result"
    }
   ],
   "source": [
    "df['BMI'].value_counts()"
   ],
   "metadata": {
    "collapsed": false,
    "ExecuteTime": {
     "end_time": "2023-09-16T19:32:56.031893800Z",
     "start_time": "2023-09-16T19:32:56.018407300Z"
    }
   }
  },
  {
   "cell_type": "code",
   "execution_count": 25,
   "outputs": [
    {
     "data": {
      "text/plain": "healthy        34775\noverweight     10175\nunderweight     2900\nobese              0\nName: bmi_cat, dtype: int64"
     },
     "execution_count": 25,
     "metadata": {},
     "output_type": "execute_result"
    }
   ],
   "source": [
    "bins = [-np.inf,18.5, 25, 30, np.inf]\n",
    "labels = [\"underweight\",\"healthy\",\"overweight\",\"obese\"]\n",
    "df['bmi_cat'] = pd.cut(df['BMI'], bins=bins, labels=labels)\n",
    "df['bmi_cat'].value_counts()"
   ],
   "metadata": {
    "collapsed": false,
    "ExecuteTime": {
     "end_time": "2023-09-16T19:32:57.106354300Z",
     "start_time": "2023-09-16T19:32:57.080274100Z"
    }
   }
  },
  {
   "cell_type": "code",
   "execution_count": null,
   "outputs": [],
   "source": [],
   "metadata": {
    "collapsed": false
   }
  }
 ],
 "metadata": {
  "kernelspec": {
   "display_name": "Python 3",
   "language": "python",
   "name": "python3"
  },
  "language_info": {
   "codemirror_mode": {
    "name": "ipython",
    "version": 2
   },
   "file_extension": ".py",
   "mimetype": "text/x-python",
   "name": "python",
   "nbconvert_exporter": "python",
   "pygments_lexer": "ipython2",
   "version": "2.7.6"
  }
 },
 "nbformat": 4,
 "nbformat_minor": 0
}
