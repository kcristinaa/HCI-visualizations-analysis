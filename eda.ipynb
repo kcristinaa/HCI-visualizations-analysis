{
 "cells": [
  {
   "cell_type": "code",
   "execution_count": 2,
   "metadata": {
    "collapsed": true,
    "ExecuteTime": {
     "end_time": "2023-08-22T17:28:50.482002900Z",
     "start_time": "2023-08-22T17:28:50.429314800Z"
    }
   },
   "outputs": [],
   "source": [
    "from dataprep.eda import create_report\n",
    "import pandas as pd"
   ]
  },
  {
   "cell_type": "code",
   "execution_count": 3,
   "outputs": [
    {
     "data": {
      "text/plain": "      id            datetime  hour          0          1          2       EDA  \\\n0      2 2017-05-22 03:00:00   3.0  33.194839 -20.779731  27.586761  0.979370   \n1      2 2017-05-22 04:00:00   4.0  41.321111 -30.715278  -0.680556  1.349422   \n2      2 2017-05-22 05:00:00   5.0  42.177500 -44.416667  -1.042778  0.668645   \n3      2 2017-05-22 06:00:00   6.0  30.669167 -44.639167  13.186111  0.138875   \n4      2 2017-05-22 07:00:00   7.0  30.708889 -29.134167   0.261667  0.583789   \n...   ..                 ...   ...        ...        ...        ...       ...   \n1909  17 2017-08-16 07:00:00   7.0 -46.000000  -2.000000  11.000000  1.038622   \n1910  17 2017-08-16 08:00:00   8.0 -46.000000  -2.000000  11.000000  1.038622   \n1911  17 2017-08-16 09:00:00   9.0 -46.000000  -2.000000  11.000000  1.038622   \n1912  17 2017-08-16 10:00:00  10.0 -46.000000  -2.000000  11.000000  1.038622   \n1913  17 2017-08-16 11:00:00  11.0 -46.000000  -2.000000  11.000000  1.038622   \n\n           BVP         HR       TEMP  \n0    -2.051485  78.873504  35.861821  \n1     2.302322  74.118131  35.411183  \n2    -1.572761  72.132161  35.776811  \n3     0.819792  73.100000  35.577078  \n4     0.028806  73.100000  34.218989  \n...        ...        ...        ...  \n1909  0.110508  71.680000  32.830000  \n1910  0.038244  71.680000  32.830000  \n1911  0.009639  71.680000  32.830000  \n1912 -0.300889  71.680000  32.830000  \n1913 -0.001703  71.680000  32.830000  \n\n[1914 rows x 10 columns]",
      "text/html": "<div>\n<style scoped>\n    .dataframe tbody tr th:only-of-type {\n        vertical-align: middle;\n    }\n\n    .dataframe tbody tr th {\n        vertical-align: top;\n    }\n\n    .dataframe thead th {\n        text-align: right;\n    }\n</style>\n<table border=\"1\" class=\"dataframe\">\n  <thead>\n    <tr style=\"text-align: right;\">\n      <th></th>\n      <th>id</th>\n      <th>datetime</th>\n      <th>hour</th>\n      <th>0</th>\n      <th>1</th>\n      <th>2</th>\n      <th>EDA</th>\n      <th>BVP</th>\n      <th>HR</th>\n      <th>TEMP</th>\n    </tr>\n  </thead>\n  <tbody>\n    <tr>\n      <th>0</th>\n      <td>2</td>\n      <td>2017-05-22 03:00:00</td>\n      <td>3.0</td>\n      <td>33.194839</td>\n      <td>-20.779731</td>\n      <td>27.586761</td>\n      <td>0.979370</td>\n      <td>-2.051485</td>\n      <td>78.873504</td>\n      <td>35.861821</td>\n    </tr>\n    <tr>\n      <th>1</th>\n      <td>2</td>\n      <td>2017-05-22 04:00:00</td>\n      <td>4.0</td>\n      <td>41.321111</td>\n      <td>-30.715278</td>\n      <td>-0.680556</td>\n      <td>1.349422</td>\n      <td>2.302322</td>\n      <td>74.118131</td>\n      <td>35.411183</td>\n    </tr>\n    <tr>\n      <th>2</th>\n      <td>2</td>\n      <td>2017-05-22 05:00:00</td>\n      <td>5.0</td>\n      <td>42.177500</td>\n      <td>-44.416667</td>\n      <td>-1.042778</td>\n      <td>0.668645</td>\n      <td>-1.572761</td>\n      <td>72.132161</td>\n      <td>35.776811</td>\n    </tr>\n    <tr>\n      <th>3</th>\n      <td>2</td>\n      <td>2017-05-22 06:00:00</td>\n      <td>6.0</td>\n      <td>30.669167</td>\n      <td>-44.639167</td>\n      <td>13.186111</td>\n      <td>0.138875</td>\n      <td>0.819792</td>\n      <td>73.100000</td>\n      <td>35.577078</td>\n    </tr>\n    <tr>\n      <th>4</th>\n      <td>2</td>\n      <td>2017-05-22 07:00:00</td>\n      <td>7.0</td>\n      <td>30.708889</td>\n      <td>-29.134167</td>\n      <td>0.261667</td>\n      <td>0.583789</td>\n      <td>0.028806</td>\n      <td>73.100000</td>\n      <td>34.218989</td>\n    </tr>\n    <tr>\n      <th>...</th>\n      <td>...</td>\n      <td>...</td>\n      <td>...</td>\n      <td>...</td>\n      <td>...</td>\n      <td>...</td>\n      <td>...</td>\n      <td>...</td>\n      <td>...</td>\n      <td>...</td>\n    </tr>\n    <tr>\n      <th>1909</th>\n      <td>17</td>\n      <td>2017-08-16 07:00:00</td>\n      <td>7.0</td>\n      <td>-46.000000</td>\n      <td>-2.000000</td>\n      <td>11.000000</td>\n      <td>1.038622</td>\n      <td>0.110508</td>\n      <td>71.680000</td>\n      <td>32.830000</td>\n    </tr>\n    <tr>\n      <th>1910</th>\n      <td>17</td>\n      <td>2017-08-16 08:00:00</td>\n      <td>8.0</td>\n      <td>-46.000000</td>\n      <td>-2.000000</td>\n      <td>11.000000</td>\n      <td>1.038622</td>\n      <td>0.038244</td>\n      <td>71.680000</td>\n      <td>32.830000</td>\n    </tr>\n    <tr>\n      <th>1911</th>\n      <td>17</td>\n      <td>2017-08-16 09:00:00</td>\n      <td>9.0</td>\n      <td>-46.000000</td>\n      <td>-2.000000</td>\n      <td>11.000000</td>\n      <td>1.038622</td>\n      <td>0.009639</td>\n      <td>71.680000</td>\n      <td>32.830000</td>\n    </tr>\n    <tr>\n      <th>1912</th>\n      <td>17</td>\n      <td>2017-08-16 10:00:00</td>\n      <td>10.0</td>\n      <td>-46.000000</td>\n      <td>-2.000000</td>\n      <td>11.000000</td>\n      <td>1.038622</td>\n      <td>-0.300889</td>\n      <td>71.680000</td>\n      <td>32.830000</td>\n    </tr>\n    <tr>\n      <th>1913</th>\n      <td>17</td>\n      <td>2017-08-16 11:00:00</td>\n      <td>11.0</td>\n      <td>-46.000000</td>\n      <td>-2.000000</td>\n      <td>11.000000</td>\n      <td>1.038622</td>\n      <td>-0.001703</td>\n      <td>71.680000</td>\n      <td>32.830000</td>\n    </tr>\n  </tbody>\n</table>\n<p>1914 rows × 10 columns</p>\n</div>"
     },
     "execution_count": 3,
     "metadata": {},
     "output_type": "execute_result"
    }
   ],
   "source": [
    "empatica = pd.read_pickle('data\\empatica.pkl')\n",
    "empatica"
   ],
   "metadata": {
    "collapsed": false,
    "ExecuteTime": {
     "end_time": "2023-08-22T17:29:23.345590500Z",
     "start_time": "2023-08-22T17:29:23.310617200Z"
    }
   }
  },
  {
   "cell_type": "code",
   "execution_count": 7,
   "outputs": [
    {
     "data": {
      "text/plain": "  0%|          | 0/1874 [00:00<?, ?it/s]",
      "application/vnd.jupyter.widget-view+json": {
       "version_major": 2,
       "version_minor": 0,
       "model_id": "fa74f76446f14061a1a5aaa1a78d04ce"
      }
     },
     "metadata": {},
     "output_type": "display_data"
    },
    {
     "name": "stderr",
     "output_type": "stream",
     "text": [
      "C:\\Users\\Christina\\anaconda3\\lib\\site-packages\\dask\\core.py:119: RuntimeWarning: invalid value encountered in divide\n",
      "  return func(*(_execute_task(a, cache) for a in args))\n"
     ]
    }
   ],
   "source": [
    "report = create_report(empatica, title='empatica')\n",
    "#report.save()"
   ],
   "metadata": {
    "collapsed": false,
    "ExecuteTime": {
     "end_time": "2023-08-22T17:33:06.307360800Z",
     "start_time": "2023-08-22T17:33:03.204154800Z"
    }
   }
  },
  {
   "cell_type": "code",
   "execution_count": null,
   "outputs": [],
   "source": [],
   "metadata": {
    "collapsed": false
   }
  }
 ],
 "metadata": {
  "kernelspec": {
   "display_name": "Python 3",
   "language": "python",
   "name": "python3"
  },
  "language_info": {
   "codemirror_mode": {
    "name": "ipython",
    "version": 2
   },
   "file_extension": ".py",
   "mimetype": "text/x-python",
   "name": "python",
   "nbconvert_exporter": "python",
   "pygments_lexer": "ipython2",
   "version": "2.7.6"
  }
 },
 "nbformat": 4,
 "nbformat_minor": 0
}
