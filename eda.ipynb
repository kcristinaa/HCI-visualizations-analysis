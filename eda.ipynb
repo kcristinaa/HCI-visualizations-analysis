{
 "cells": [
  {
   "cell_type": "code",
   "execution_count": 8,
   "outputs": [],
   "source": [
    "from dataprep.eda import create_report\n",
    "import pandas as pd"
   ],
   "metadata": {
    "collapsed": false,
    "ExecuteTime": {
     "end_time": "2023-09-27T19:55:26.623040200Z",
     "start_time": "2023-09-27T19:55:26.607377600Z"
    }
   }
  },
  {
   "cell_type": "code",
   "execution_count": 9,
   "outputs": [
    {
     "data": {
      "text/plain": "      id       date stationary (in hours) walking (in hours)  \\\n331    2 2013-03-27                  9.87               0.36   \n5222  34 2013-03-27                  4.18                  0   \n4004  30 2013-03-27                  1.21               0.06   \n3086  19 2013-03-27                  4.97               0.18   \n3088  19 2013-03-27                  4.97               0.18   \n...   ..        ...                   ...                ...   \n1999  10 2013-06-01                   1.3                  0   \n491    2 2013-06-01                  1.47                0.1   \n2001  10 2013-06-01                   1.3                  0   \n3836  27 2013-06-01                  1.62               0.04   \n6781  59 2013-06-01                  5.15               1.75   \n\n     running (in hours) silence (in hours) voice (in hours) noise (in hours)  \\\n331                0.02               13.9             0.08             0.07   \n5222                  0              11.24             1.62             0.28   \n4004                  0                3.6             4.48             1.23   \n3086                  0              12.99             5.04             2.86   \n3088                  0              12.99             5.04             2.86   \n...                 ...                ...              ...              ...   \n1999                  0               3.42             0.05             0.08   \n491                   0               2.65             7.26             4.92   \n2001                  0               3.42             0.05             0.08   \n3836                  0                4.2             2.99             2.96   \n6781               1.12               1.23             2.89            14.46   \n\n      conversation_duration_in_hours  bluetooth_level  ...  label_panas_PA  \\\n331                              NaN       -87.451923  ...            28.0   \n5222                            0.77       -80.918660  ...            24.0   \n4004                            3.62       -85.182927  ...            34.0   \n3086                            2.92       -80.981818  ...            34.0   \n3088                            2.92       -80.981818  ...            34.0   \n...                              ...              ...  ...             ...   \n1999                             NaN       -91.857143  ...            43.0   \n491                             4.30       -87.894737  ...            28.0   \n2001                             NaN       -91.857143  ...            43.0   \n3836                            2.39              NaN  ...            19.0   \n6781                            1.95     20876.580645  ...            37.0   \n\n      label_panas_NA  label_extraversion  label_agreeableness  \\\n331             13.0                15.0                   27   \n5222            14.0                26.0                   38   \n4004            21.0                35.0                   37   \n3086            15.0                17.0                   33   \n3088            15.0                17.0                   33   \n...              ...                 ...                  ...   \n1999            28.0                18.0                   12   \n491             13.0                15.0                   27   \n2001            28.0                18.0                   12   \n3836            23.0                17.0                   33   \n6781            29.0                31.0                   37   \n\n      label_conscientiousness label_neuroticism label_openness  \\\n331                      35.0              26.0           30.0   \n5222                     28.0              24.0           32.0   \n4004                     41.0              16.0           36.0   \n3086                     34.0              32.0           37.0   \n3088                     34.0              32.0           37.0   \n...                       ...               ...            ...   \n1999                     45.0              25.0           40.0   \n491                      35.0              26.0           30.0   \n2001                     45.0              25.0           40.0   \n3836                     25.0              26.0           33.0   \n6781                     26.0              24.0           32.0   \n\n     label_loneliness  label_pss_score  label_phq_score  \n331                28             25.0                5  \n5222               37             14.0                6  \n4004               26             12.0                0  \n3086               53             21.0                4  \n3088               53             21.0                4  \n...               ...              ...              ...  \n1999               62             15.0                4  \n491                28             25.0                5  \n2001               62             15.0                4  \n3836               50             23.0                7  \n6781               30             13.0                7  \n\n[3877 rows x 39 columns]",
      "text/html": "<div>\n<style scoped>\n    .dataframe tbody tr th:only-of-type {\n        vertical-align: middle;\n    }\n\n    .dataframe tbody tr th {\n        vertical-align: top;\n    }\n\n    .dataframe thead th {\n        text-align: right;\n    }\n</style>\n<table border=\"1\" class=\"dataframe\">\n  <thead>\n    <tr style=\"text-align: right;\">\n      <th></th>\n      <th>id</th>\n      <th>date</th>\n      <th>stationary (in hours)</th>\n      <th>walking (in hours)</th>\n      <th>running (in hours)</th>\n      <th>silence (in hours)</th>\n      <th>voice (in hours)</th>\n      <th>noise (in hours)</th>\n      <th>conversation_duration_in_hours</th>\n      <th>bluetooth_level</th>\n      <th>...</th>\n      <th>label_panas_PA</th>\n      <th>label_panas_NA</th>\n      <th>label_extraversion</th>\n      <th>label_agreeableness</th>\n      <th>label_conscientiousness</th>\n      <th>label_neuroticism</th>\n      <th>label_openness</th>\n      <th>label_loneliness</th>\n      <th>label_pss_score</th>\n      <th>label_phq_score</th>\n    </tr>\n  </thead>\n  <tbody>\n    <tr>\n      <th>331</th>\n      <td>2</td>\n      <td>2013-03-27</td>\n      <td>9.87</td>\n      <td>0.36</td>\n      <td>0.02</td>\n      <td>13.9</td>\n      <td>0.08</td>\n      <td>0.07</td>\n      <td>NaN</td>\n      <td>-87.451923</td>\n      <td>...</td>\n      <td>28.0</td>\n      <td>13.0</td>\n      <td>15.0</td>\n      <td>27</td>\n      <td>35.0</td>\n      <td>26.0</td>\n      <td>30.0</td>\n      <td>28</td>\n      <td>25.0</td>\n      <td>5</td>\n    </tr>\n    <tr>\n      <th>5222</th>\n      <td>34</td>\n      <td>2013-03-27</td>\n      <td>4.18</td>\n      <td>0</td>\n      <td>0</td>\n      <td>11.24</td>\n      <td>1.62</td>\n      <td>0.28</td>\n      <td>0.77</td>\n      <td>-80.918660</td>\n      <td>...</td>\n      <td>24.0</td>\n      <td>14.0</td>\n      <td>26.0</td>\n      <td>38</td>\n      <td>28.0</td>\n      <td>24.0</td>\n      <td>32.0</td>\n      <td>37</td>\n      <td>14.0</td>\n      <td>6</td>\n    </tr>\n    <tr>\n      <th>4004</th>\n      <td>30</td>\n      <td>2013-03-27</td>\n      <td>1.21</td>\n      <td>0.06</td>\n      <td>0</td>\n      <td>3.6</td>\n      <td>4.48</td>\n      <td>1.23</td>\n      <td>3.62</td>\n      <td>-85.182927</td>\n      <td>...</td>\n      <td>34.0</td>\n      <td>21.0</td>\n      <td>35.0</td>\n      <td>37</td>\n      <td>41.0</td>\n      <td>16.0</td>\n      <td>36.0</td>\n      <td>26</td>\n      <td>12.0</td>\n      <td>0</td>\n    </tr>\n    <tr>\n      <th>3086</th>\n      <td>19</td>\n      <td>2013-03-27</td>\n      <td>4.97</td>\n      <td>0.18</td>\n      <td>0</td>\n      <td>12.99</td>\n      <td>5.04</td>\n      <td>2.86</td>\n      <td>2.92</td>\n      <td>-80.981818</td>\n      <td>...</td>\n      <td>34.0</td>\n      <td>15.0</td>\n      <td>17.0</td>\n      <td>33</td>\n      <td>34.0</td>\n      <td>32.0</td>\n      <td>37.0</td>\n      <td>53</td>\n      <td>21.0</td>\n      <td>4</td>\n    </tr>\n    <tr>\n      <th>3088</th>\n      <td>19</td>\n      <td>2013-03-27</td>\n      <td>4.97</td>\n      <td>0.18</td>\n      <td>0</td>\n      <td>12.99</td>\n      <td>5.04</td>\n      <td>2.86</td>\n      <td>2.92</td>\n      <td>-80.981818</td>\n      <td>...</td>\n      <td>34.0</td>\n      <td>15.0</td>\n      <td>17.0</td>\n      <td>33</td>\n      <td>34.0</td>\n      <td>32.0</td>\n      <td>37.0</td>\n      <td>53</td>\n      <td>21.0</td>\n      <td>4</td>\n    </tr>\n    <tr>\n      <th>...</th>\n      <td>...</td>\n      <td>...</td>\n      <td>...</td>\n      <td>...</td>\n      <td>...</td>\n      <td>...</td>\n      <td>...</td>\n      <td>...</td>\n      <td>...</td>\n      <td>...</td>\n      <td>...</td>\n      <td>...</td>\n      <td>...</td>\n      <td>...</td>\n      <td>...</td>\n      <td>...</td>\n      <td>...</td>\n      <td>...</td>\n      <td>...</td>\n      <td>...</td>\n      <td>...</td>\n    </tr>\n    <tr>\n      <th>1999</th>\n      <td>10</td>\n      <td>2013-06-01</td>\n      <td>1.3</td>\n      <td>0</td>\n      <td>0</td>\n      <td>3.42</td>\n      <td>0.05</td>\n      <td>0.08</td>\n      <td>NaN</td>\n      <td>-91.857143</td>\n      <td>...</td>\n      <td>43.0</td>\n      <td>28.0</td>\n      <td>18.0</td>\n      <td>12</td>\n      <td>45.0</td>\n      <td>25.0</td>\n      <td>40.0</td>\n      <td>62</td>\n      <td>15.0</td>\n      <td>4</td>\n    </tr>\n    <tr>\n      <th>491</th>\n      <td>2</td>\n      <td>2013-06-01</td>\n      <td>1.47</td>\n      <td>0.1</td>\n      <td>0</td>\n      <td>2.65</td>\n      <td>7.26</td>\n      <td>4.92</td>\n      <td>4.30</td>\n      <td>-87.894737</td>\n      <td>...</td>\n      <td>28.0</td>\n      <td>13.0</td>\n      <td>15.0</td>\n      <td>27</td>\n      <td>35.0</td>\n      <td>26.0</td>\n      <td>30.0</td>\n      <td>28</td>\n      <td>25.0</td>\n      <td>5</td>\n    </tr>\n    <tr>\n      <th>2001</th>\n      <td>10</td>\n      <td>2013-06-01</td>\n      <td>1.3</td>\n      <td>0</td>\n      <td>0</td>\n      <td>3.42</td>\n      <td>0.05</td>\n      <td>0.08</td>\n      <td>NaN</td>\n      <td>-91.857143</td>\n      <td>...</td>\n      <td>43.0</td>\n      <td>28.0</td>\n      <td>18.0</td>\n      <td>12</td>\n      <td>45.0</td>\n      <td>25.0</td>\n      <td>40.0</td>\n      <td>62</td>\n      <td>15.0</td>\n      <td>4</td>\n    </tr>\n    <tr>\n      <th>3836</th>\n      <td>27</td>\n      <td>2013-06-01</td>\n      <td>1.62</td>\n      <td>0.04</td>\n      <td>0</td>\n      <td>4.2</td>\n      <td>2.99</td>\n      <td>2.96</td>\n      <td>2.39</td>\n      <td>NaN</td>\n      <td>...</td>\n      <td>19.0</td>\n      <td>23.0</td>\n      <td>17.0</td>\n      <td>33</td>\n      <td>25.0</td>\n      <td>26.0</td>\n      <td>33.0</td>\n      <td>50</td>\n      <td>23.0</td>\n      <td>7</td>\n    </tr>\n    <tr>\n      <th>6781</th>\n      <td>59</td>\n      <td>2013-06-01</td>\n      <td>5.15</td>\n      <td>1.75</td>\n      <td>1.12</td>\n      <td>1.23</td>\n      <td>2.89</td>\n      <td>14.46</td>\n      <td>1.95</td>\n      <td>20876.580645</td>\n      <td>...</td>\n      <td>37.0</td>\n      <td>29.0</td>\n      <td>31.0</td>\n      <td>37</td>\n      <td>26.0</td>\n      <td>24.0</td>\n      <td>32.0</td>\n      <td>30</td>\n      <td>13.0</td>\n      <td>7</td>\n    </tr>\n  </tbody>\n</table>\n<p>3877 rows × 39 columns</p>\n</div>"
     },
     "execution_count": 9,
     "metadata": {},
     "output_type": "execute_result"
    }
   ],
   "source": [
    "df = pd.read_pickle('data/dataframe')\n",
    "df"
   ],
   "metadata": {
    "collapsed": false,
    "ExecuteTime": {
     "end_time": "2023-09-27T19:55:26.962504200Z",
     "start_time": "2023-09-27T19:55:26.915622300Z"
    }
   }
  },
  {
   "cell_type": "code",
   "execution_count": 10,
   "outputs": [],
   "source": [
    "#report = create_report(df, title='studentlife')\n",
    "#report.save()"
   ],
   "metadata": {
    "collapsed": false,
    "ExecuteTime": {
     "end_time": "2023-09-27T19:55:27.417309900Z",
     "start_time": "2023-09-27T19:55:27.385306Z"
    }
   }
  },
  {
   "cell_type": "code",
   "execution_count": null,
   "outputs": [],
   "source": [],
   "metadata": {
    "collapsed": false
   }
  }
 ],
 "metadata": {
  "kernelspec": {
   "display_name": "Python 3",
   "language": "python",
   "name": "python3"
  },
  "language_info": {
   "codemirror_mode": {
    "name": "ipython",
    "version": 2
   },
   "file_extension": ".py",
   "mimetype": "text/x-python",
   "name": "python",
   "nbconvert_exporter": "python",
   "pygments_lexer": "ipython2",
   "version": "2.7.6"
  }
 },
 "nbformat": 4,
 "nbformat_minor": 0
}
