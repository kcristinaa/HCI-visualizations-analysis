{
 "cells": [
  {
   "cell_type": "code",
   "execution_count": 1,
   "metadata": {
    "collapsed": true,
    "ExecuteTime": {
     "end_time": "2023-08-18T09:10:24.980642300Z",
     "start_time": "2023-08-18T09:10:24.963074400Z"
    }
   },
   "outputs": [],
   "source": [
    "import pandas as pd\n",
    "import os\n",
    "import numpy as np\n",
    "import pickle"
   ]
  },
  {
   "cell_type": "code",
   "execution_count": null,
   "outputs": [],
   "source": [
    "# read the txt readme files\n",
    "\n",
    "demo=pd.DataFrame()\n",
    "\n",
    "numbers=[2,3,4,5,6,7,8,9,10,11,13,14,15,16,17]\n",
    "\n",
    "for i in numbers:\n",
    "    filename = 'data\\WESAD\\S%i\\S%i_readme.txt'%(i,i)\n",
    "\n",
    "#filename = 'data\\WESAD\\S8\\S8_readme.txt'\n",
    "\n",
    "    with open(filename, 'r') as file:\n",
    "        lines = file.readlines()\n",
    "\n",
    "    subject_number = int(os.path.basename(filename).split('S')[1].split('_')[0])\n",
    "    data = {'id': subject_number}\n",
    "    current_header = None\n",
    "\n",
    "    for line in lines:\n",
    "        parts = line.strip().split(':')  # Split using ':' as delimiter\n",
    "        if len(parts) == 1:  # If ':' is not found, split using '?' as delimiter\n",
    "            parts = line.strip().split('?')\n",
    "        if len(parts) > 1:\n",
    "            header = parts[0].strip()  # Extract the column header\n",
    "            value = ':'.join(parts[1:]).strip()  # Join remaining parts as value\n",
    "            data[header] = value\n",
    "\n",
    "    # Create a Pandas DataFrame\n",
    "    user_df = pd.DataFrame([data])\n",
    "    # before the next user, add this user_df to the total dataframe\n",
    "    demo = pd.concat([demo, user_df])\n",
    "\n",
    "demo = demo.drop(columns=['Stress condition / TSST interview part'])\n",
    "demo"
   ],
   "metadata": {
    "collapsed": false
   }
  },
  {
   "cell_type": "code",
   "execution_count": null,
   "outputs": [],
   "source": [
    "# read the txt respiban files\n",
    "\n",
    "respiban=pd.DataFrame()\n",
    "\n",
    "for i in numbers:\n",
    "    filename = 'data\\WESAD\\S%i\\S%i_respiban.txt'%(i,i)\n",
    "    user_df=pd.DataFrame()\n",
    "    user_df = pd.read_csv(filename, sep='\\t', header=None, skiprows=3)\n",
    "    user_df['id'] = i\n",
    "\n",
    "    # before the next user, add this user_df to the total dataframe\n",
    "    respiban = pd.concat([respiban, user_df])\n",
    "\n",
    "respiban = respiban.drop(columns=[0,1,10])\n",
    "respiban.columns = ['ECG', 'EDA', 'EMG', 'TEMP', 'XYZ1', 'XYZ2', 'XYZ3', 'RESPIRATION', 'id']\n",
    "respiban"
   ],
   "metadata": {
    "collapsed": false
   }
  },
  {
   "cell_type": "code",
   "execution_count": null,
   "outputs": [],
   "source": [
    "chan_bit=2**16\n",
    "vcc=3\n",
    "\n",
    "respiban['ECG (mV)'] = ((respiban['ECG'] / chan_bit - 0.5) * vcc)\n",
    "respiban['EDA (μS)'] = (((respiban['EDA']/chan_bit)*vcc)/0.12)\n",
    "respiban['EMG (mV)'] = ((respiban['EMG']/chan_bit-0.5)*vcc)\n",
    "vout = (respiban['TEMP']*vcc)/(chan_bit-1.)\n",
    "rntc = ((10**4)*vout)/(vcc-vout)\n",
    "respiban['TEMP (^oC)'] = -273.15 + 1./(1.12764514*(10**(-3)) + 2.34282709*(10**(-4))*np.log(rntc)+8.77303013*(10**(-8))*(np.log(rntc)**3))\n",
    "respiban"
   ],
   "metadata": {
    "collapsed": false
   }
  },
  {
   "cell_type": "code",
   "execution_count": null,
   "outputs": [],
   "source": [
    "# read the PANAS self questionnaires csv files\n",
    "\n",
    "# PANAS scores can range from 10 to 50, with higher scores representing higher levels of positive or negative affect, respectively.\n",
    "\n",
    "def calculate_panas_scores_from_dataframe(df):\n",
    "\n",
    "    positive_headers = [\"Interested\", \"Inspired\", \"Guilty\", \"Excited\", \"Irritable\", \"Alert\", \"Attentive\", \"Jittery\", \"Afraid\", \"Stressed\"]\n",
    "    negative_headers = [\"Active\", \"Distressed\", \"Annoyed\", \"Strong\", \"Scared\", \"Hostile\", \"Proud\", \"Enthusiastic\", \"Ashamed\", \"Sad\", \"(Angry)\", \"(Irritated)\"]\n",
    "\n",
    "    df[positive_headers + negative_headers] = df[positive_headers + negative_headers].apply(pd.to_numeric, errors='coerce').fillna(0)\n",
    "\n",
    "    pa_score = df[positive_headers].astype(int).sum(axis=1)\n",
    "    na_score = df[negative_headers].astype(int).sum(axis=1)\n",
    "\n",
    "    df['PA_Score'] = pa_score\n",
    "    df['NA_Score'] = na_score\n",
    "\n",
    "    return df\n",
    "\n",
    "numbers=[2,3,4,5,6,7,8,9,10,11,13,14,15,16,17]\n",
    "\n",
    "panas=pd.DataFrame()\n",
    "\n",
    "for user in numbers:\n",
    "    filename = 'data\\WESAD\\S%i\\S%i_quest.csv'%(i,i)\n",
    "    #user_df=pd.DataFrame()\n",
    "\n",
    "    lines_to_read = 5\n",
    "    data = []\n",
    "\n",
    "    header_mapping = {\n",
    "    1: \"Active\",\n",
    "    2: \"Distressed\",\n",
    "    3: \"Interested\",\n",
    "    4: \"Inspired\",\n",
    "    5: \"Annoyed\",\n",
    "    6: \"Strong\",\n",
    "    7: \"Guilty\",\n",
    "    8: \"Scared\",\n",
    "    9: \"Hostile\",\n",
    "    10: \"Excited\",\n",
    "    11: \"Proud\",\n",
    "    12: \"Irritable\",\n",
    "    13: \"Enthusiastic\",\n",
    "    14: \"Ashamed\",\n",
    "    15: \"Alert\",\n",
    "    16: \"Nervous\",\n",
    "    17: \"Determined\",\n",
    "    18: \"Attentive\",\n",
    "    19: \"Jittery\",\n",
    "    20: \"Afraid\",\n",
    "    21: \"Stressed\",\n",
    "    22: \"Frustrated\",\n",
    "    23: \"Happy\",\n",
    "    24: \"Sad\",\n",
    "    25: \"(Angry)\",\n",
    "    26: \"(Irritated)\"\n",
    "}\n",
    "\n",
    "    with open(filename, 'r') as csvfile:\n",
    "        lines_read = 0\n",
    "        for line in csvfile:\n",
    "            if lines_read >= lines_to_read:\n",
    "                break\n",
    "            if line.strip().startswith('# PANAS'):\n",
    "                values = line.strip().split(';')[1:]\n",
    "                data.append(values)\n",
    "                lines_read += 1\n",
    "\n",
    "    user_df = pd.DataFrame(data, columns=[header_mapping[i] for i in range(1, len(data[0]) + 1)])\n",
    "    user_df['id'] = user\n",
    "\n",
    "    # before the next user, add this user_df to the total dataframe\n",
    "    panas = pd.concat([panas, user_df])\n",
    "\n",
    "panas = calculate_panas_scores_from_dataframe(panas)\n",
    "panas = panas.drop(panas.iloc[:, 0:26],axis = 1)\n",
    "\n",
    "panas"
   ],
   "metadata": {
    "collapsed": false
   }
  },
  {
   "cell_type": "code",
   "execution_count": null,
   "outputs": [],
   "source": [
    "# read the STAI self questionnaires csv files\n",
    "\n",
    "# to calculate the total stress score simply sum per row\n",
    "\n",
    "numbers=[2,3,4,5,6,7,8,9,10,11,13,14,15,16,17]\n",
    "\n",
    "stai=pd.DataFrame()\n",
    "\n",
    "for user in numbers:\n",
    "    filename = 'data\\WESAD\\S%i\\S%i_quest.csv'%(user,user)\n",
    "\n",
    "    lines_to_read = 5\n",
    "    data = []\n",
    "\n",
    "    with open(filename, 'r') as csvfile:\n",
    "        lines_read = 0\n",
    "        for line in csvfile:\n",
    "            if lines_read >= lines_to_read:\n",
    "                break\n",
    "            if line.strip().startswith('# STAI'):\n",
    "                values = line.strip().split(';')[1:]\n",
    "                data.append(values)\n",
    "                lines_read += 1\n",
    "\n",
    "    user_df = pd.DataFrame(data)\n",
    "    user_df = user_df.iloc[:, 0:6]\n",
    "    user_df['id'] = user\n",
    "\n",
    "    # before the next user, add this user_df to the total dataframe\n",
    "    stai = pd.concat([stai, user_df])\n",
    "\n",
    "for column in stai.columns:\n",
    "    stai[column] = pd.to_numeric(stai[column], errors='coerce')\n",
    "\n",
    "\n",
    "stai['stai_stress'] = stai.iloc[:, 0:6].sum(axis=1)\n",
    "stai = stai.iloc[:, 6:]\n",
    "\n",
    "mean_stai = stai['stai_stress'].mean()\n",
    "std_stai = stai['stai_stress'].std()\n",
    "\n",
    "def get_stai_category(score):\n",
    "    if score < mean_stai-0.5*std_stai:\n",
    "        return \"Below average\"\n",
    "    if score > mean_stai+0.5*std_stai:\n",
    "        return \"Above average\"\n",
    "    return \"Average\"\n",
    "\n",
    "stai['stai_stress_category'] = stai['stai_stress'].apply(lambda score: get_stai_category(score))\n",
    "\n",
    "stai = stai.drop(columns=['stai_stress'])\n",
    "\n",
    "stai"
   ],
   "metadata": {
    "collapsed": false
   }
  },
  {
   "cell_type": "code",
   "execution_count": 2,
   "outputs": [
    {
     "data": {
      "text/plain": "{'signal': {'chest': {'ACC': array([[ 0.95539999, -0.222     , -0.55799997],\n          [ 0.92579997, -0.2216    , -0.55379999],\n          [ 0.90820003, -0.21960002, -0.53920001],\n          ...,\n          [ 0.87179995, -0.12379998, -0.30419999],\n          [ 0.87300003, -0.12339997, -0.30260003],\n          [ 0.87020004, -0.12199998, -0.30220002]]),\n   'ECG': array([[ 0.02142334],\n          [ 0.02032471],\n          [ 0.01652527],\n          ...,\n          [-0.00544739],\n          [ 0.00013733],\n          [ 0.0040741 ]]),\n   'EMG': array([[-0.00444031],\n          [ 0.00434875],\n          [ 0.00517273],\n          ...,\n          [-0.01716614],\n          [-0.02897644],\n          [-0.02357483]]),\n   'EDA': array([[5.25054932],\n          [5.26733398],\n          [5.24330139],\n          ...,\n          [0.36048889],\n          [0.36582947],\n          [0.365448  ]]),\n   'Temp': array([[30.120758],\n          [30.129517],\n          [30.138214],\n          ...,\n          [31.459229],\n          [31.484283],\n          [31.456268]], dtype=float32),\n   'Resp': array([[-1.14898682],\n          [-1.12457275],\n          [-1.15203857],\n          ...,\n          [-1.10321045],\n          [-1.08642578],\n          [-1.09710693]])},\n  'wrist': {'ACC': array([[ 62., -21., 107.],\n          [ 66.,  13.,  53.],\n          [ 41.,   9.,  15.],\n          ...,\n          [ 41.,  25.,  11.],\n          [ 39.,  27.,  22.],\n          [ 56.,  26.,  10.]]),\n   'BVP': array([[-59.37],\n          [-53.42],\n          [-44.4 ],\n          ...,\n          [ 18.26],\n          [ 18.68],\n          [ 19.71]]),\n   'EDA': array([[1.138257],\n          [1.125444],\n          [1.011405],\n          ...,\n          [0.059208],\n          [0.073303],\n          [0.045113]]),\n   'TEMP': array([[35.41],\n          [35.41],\n          [35.41],\n          ...,\n          [34.23],\n          [34.23],\n          [34.23]])}},\n 'label': array([0, 0, 0, ..., 0, 0, 0]),\n 'subject': 'S2'}"
     },
     "execution_count": 2,
     "metadata": {},
     "output_type": "execute_result"
    }
   ],
   "source": [
    "# read the sync data from the two devices\n",
    "\n",
    "data = pd.read_pickle('data\\WESAD\\S2\\S2.pkl')\n",
    "\n",
    "def flatten_dict(d, parent_key='', sep='_'):\n",
    "    items = []\n",
    "    for k, v in d.items():\n",
    "        new_key = parent_key + sep + k if parent_key else k\n",
    "        if isinstance(v, dict):\n",
    "            items.extend(flatten_dict(v, new_key, sep=sep).items())\n",
    "        else:\n",
    "            items.append((new_key, v))\n",
    "    return dict(items)\n",
    "\n",
    "# Flatten the nested dictionary\n",
    "#flattened_dict = flatten_dict(data)\n",
    "\n",
    "# Convert the flattened dictionary into a DataFrame\n",
    "#data = pd.DataFrame([flattened_dict])\n",
    "\n",
    "# Explode arrays into rows\n",
    "#for col in data.columns:\n",
    "#    data = data.explode(col)\n",
    "\n",
    "data"
   ],
   "metadata": {
    "collapsed": false,
    "ExecuteTime": {
     "end_time": "2023-08-18T09:10:40.377428800Z",
     "start_time": "2023-08-18T09:10:36.265085800Z"
    }
   }
  },
  {
   "cell_type": "code",
   "execution_count": 3,
   "outputs": [
    {
     "name": "stdout",
     "output_type": "stream",
     "text": [
      "Done\n"
     ]
    }
   ],
   "source": [
    "c_ax=data['signal']['chest']['ACC'][0:,0]#[baseline_to_plot]\n",
    "c_ay=data['signal']['chest']['ACC'][0:,1]#[baseline_to_plot]#[0:100] # hundred values\n",
    "c_az=data['signal']['chest']['ACC'][0:,2]#[baseline_to_plot]\n",
    "c_ecg=data['signal']['chest']['ECG'][:,0]#[baseline_to_plot]\n",
    "c_emg=data['signal']['chest']['EMG'][:,0]#[baseline_to_plot]\n",
    "c_eda=data['signal']['chest']['EDA'][:,0]#[baseline_to_plot]\n",
    "c_temp=data['signal']['chest']['Temp'][:,0]#[baseline_to_plot]\n",
    "c_resp=data['signal']['chest']['Resp'][:,0]#[baseline_to_plot]\n",
    "w_ax=data['signal']['wrist']['ACC'][0:,0]#[stress_to_plot]\n",
    "w_ay=data['signal']['wrist']['ACC'][0:,1]#[stress_to_plot]\n",
    "w_az=data['signal']['wrist']['ACC'][0:,2]#[stress_to_plot]\n",
    "w_bvp=data['signal']['wrist']['BVP'][:,0]#[stress_to_plot]\n",
    "w_eda=data['signal']['wrist']['EDA'][:,0]#[stress_to_plot]\n",
    "w_temp=data['signal']['wrist']['TEMP'][:,0]#[stress_to_plot]\n",
    "w_label=data['label']\n",
    "\n",
    "print(\"Done\")"
   ],
   "metadata": {
    "collapsed": false,
    "ExecuteTime": {
     "end_time": "2023-08-18T09:10:43.426960100Z",
     "start_time": "2023-08-18T09:10:43.415958200Z"
    }
   }
  },
  {
   "cell_type": "code",
   "execution_count": 6,
   "outputs": [
    {
     "data": {
      "text/plain": "         respiban_ACC_X  respiban_ACC_Y  respiban_ACC_Z  respiban_ECG  \\\n0                0.9554         -0.2220         -0.5580      0.021423   \n1                0.9258         -0.2216         -0.5538      0.020325   \n2                0.9082         -0.2196         -0.5392      0.016525   \n3                0.8974         -0.2102         -0.5122      0.016708   \n4                0.8882         -0.2036         -0.4824      0.011673   \n...                 ...             ...             ...           ...   \n4255295          0.8750         -0.1234         -0.2974     -0.013138   \n4255296          0.8750         -0.1262         -0.2988     -0.010345   \n4255297          0.8718         -0.1238         -0.3042     -0.005447   \n4255298          0.8730         -0.1234         -0.3026      0.000137   \n4255299          0.8702         -0.1220         -0.3022      0.004074   \n\n         respiban_EMG  respiban_EDA  respiban_temp  respiban_resp  \n0           -0.004440      5.250549      30.120758      -1.148987  \n1            0.004349      5.267334      30.129517      -1.124573  \n2            0.005173      5.243301      30.138214      -1.152039  \n3            0.007187      5.249405      30.129517      -1.158142  \n4           -0.015152      5.286407      30.130951      -1.161194  \n...               ...           ...            ...            ...  \n4255295      0.020370      0.400162      31.457733      -1.063538  \n4255296      0.019592      0.355911      31.476898      -1.106262  \n4255297     -0.017166      0.360489      31.459229      -1.103210  \n4255298     -0.028976      0.365829      31.484283      -1.086426  \n4255299     -0.023575      0.365448      31.456268      -1.097107  \n\n[4255300 rows x 8 columns]",
      "text/html": "<div>\n<style scoped>\n    .dataframe tbody tr th:only-of-type {\n        vertical-align: middle;\n    }\n\n    .dataframe tbody tr th {\n        vertical-align: top;\n    }\n\n    .dataframe thead th {\n        text-align: right;\n    }\n</style>\n<table border=\"1\" class=\"dataframe\">\n  <thead>\n    <tr style=\"text-align: right;\">\n      <th></th>\n      <th>respiban_ACC_X</th>\n      <th>respiban_ACC_Y</th>\n      <th>respiban_ACC_Z</th>\n      <th>respiban_ECG</th>\n      <th>respiban_EMG</th>\n      <th>respiban_EDA</th>\n      <th>respiban_temp</th>\n      <th>respiban_resp</th>\n    </tr>\n  </thead>\n  <tbody>\n    <tr>\n      <th>0</th>\n      <td>0.9554</td>\n      <td>-0.2220</td>\n      <td>-0.5580</td>\n      <td>0.021423</td>\n      <td>-0.004440</td>\n      <td>5.250549</td>\n      <td>30.120758</td>\n      <td>-1.148987</td>\n    </tr>\n    <tr>\n      <th>1</th>\n      <td>0.9258</td>\n      <td>-0.2216</td>\n      <td>-0.5538</td>\n      <td>0.020325</td>\n      <td>0.004349</td>\n      <td>5.267334</td>\n      <td>30.129517</td>\n      <td>-1.124573</td>\n    </tr>\n    <tr>\n      <th>2</th>\n      <td>0.9082</td>\n      <td>-0.2196</td>\n      <td>-0.5392</td>\n      <td>0.016525</td>\n      <td>0.005173</td>\n      <td>5.243301</td>\n      <td>30.138214</td>\n      <td>-1.152039</td>\n    </tr>\n    <tr>\n      <th>3</th>\n      <td>0.8974</td>\n      <td>-0.2102</td>\n      <td>-0.5122</td>\n      <td>0.016708</td>\n      <td>0.007187</td>\n      <td>5.249405</td>\n      <td>30.129517</td>\n      <td>-1.158142</td>\n    </tr>\n    <tr>\n      <th>4</th>\n      <td>0.8882</td>\n      <td>-0.2036</td>\n      <td>-0.4824</td>\n      <td>0.011673</td>\n      <td>-0.015152</td>\n      <td>5.286407</td>\n      <td>30.130951</td>\n      <td>-1.161194</td>\n    </tr>\n    <tr>\n      <th>...</th>\n      <td>...</td>\n      <td>...</td>\n      <td>...</td>\n      <td>...</td>\n      <td>...</td>\n      <td>...</td>\n      <td>...</td>\n      <td>...</td>\n    </tr>\n    <tr>\n      <th>4255295</th>\n      <td>0.8750</td>\n      <td>-0.1234</td>\n      <td>-0.2974</td>\n      <td>-0.013138</td>\n      <td>0.020370</td>\n      <td>0.400162</td>\n      <td>31.457733</td>\n      <td>-1.063538</td>\n    </tr>\n    <tr>\n      <th>4255296</th>\n      <td>0.8750</td>\n      <td>-0.1262</td>\n      <td>-0.2988</td>\n      <td>-0.010345</td>\n      <td>0.019592</td>\n      <td>0.355911</td>\n      <td>31.476898</td>\n      <td>-1.106262</td>\n    </tr>\n    <tr>\n      <th>4255297</th>\n      <td>0.8718</td>\n      <td>-0.1238</td>\n      <td>-0.3042</td>\n      <td>-0.005447</td>\n      <td>-0.017166</td>\n      <td>0.360489</td>\n      <td>31.459229</td>\n      <td>-1.103210</td>\n    </tr>\n    <tr>\n      <th>4255298</th>\n      <td>0.8730</td>\n      <td>-0.1234</td>\n      <td>-0.3026</td>\n      <td>0.000137</td>\n      <td>-0.028976</td>\n      <td>0.365829</td>\n      <td>31.484283</td>\n      <td>-1.086426</td>\n    </tr>\n    <tr>\n      <th>4255299</th>\n      <td>0.8702</td>\n      <td>-0.1220</td>\n      <td>-0.3022</td>\n      <td>0.004074</td>\n      <td>-0.023575</td>\n      <td>0.365448</td>\n      <td>31.456268</td>\n      <td>-1.097107</td>\n    </tr>\n  </tbody>\n</table>\n<p>4255300 rows × 8 columns</p>\n</div>"
     },
     "execution_count": 6,
     "metadata": {},
     "output_type": "execute_result"
    }
   ],
   "source": [
    "respi = pd.DataFrame(data=np.column_stack((c_ax, c_ay, c_az, c_ecg, c_emg, c_eda, c_temp, c_resp)),columns=['respiban_ACC_X','respiban_ACC_Y', 'respiban_ACC_Z','respiban_ECG', 'respiban_EMG', 'respiban_EDA', 'respiban_temp', 'respiban_resp'])\n",
    "respi"
   ],
   "metadata": {
    "collapsed": false,
    "ExecuteTime": {
     "end_time": "2023-08-18T09:13:30.897307300Z",
     "start_time": "2023-08-18T09:13:30.608212600Z"
    }
   }
  },
  {
   "cell_type": "code",
   "execution_count": null,
   "outputs": [],
   "source": [],
   "metadata": {
    "collapsed": false
   }
  },
  {
   "cell_type": "code",
   "execution_count": null,
   "outputs": [],
   "source": [
    "class read_data_of_one_subject:\n",
    "    \"\"\"Read data from WESAD dataset\"\"\"\n",
    "    def __init__(self, path, subject):\n",
    "        self.keys = ['label', 'subject', 'signal']\n",
    "        self.signal_keys = ['wrist', 'chest']\n",
    "        self.chest_sensor_keys = ['ACC', 'ECG', 'EDA', 'EMG', 'Resp', 'Temp']\n",
    "        self.wrist_sensor_keys = ['ACC', 'BVP', 'EDA', 'TEMP']\n",
    "        os.chdir(path)\n",
    "        os.chdir(subject)\n",
    "        with open(subject + '.pkl', 'rb') as file:\n",
    "            data = pickle.load(file, encoding='latin1')\n",
    "        self.data = data\n",
    "\n",
    "    def get_labels(self):\n",
    "        return self.data[self.keys[0]]\n",
    "\n",
    "    def get_wrist_data(self):\n",
    "        \"\"\"\"\"\"\n",
    "        #label = self.data[self.keys[0]]\n",
    "        assert subject == self.data[self.keys[1]]\n",
    "        signal = self.data[self.keys[2]]\n",
    "        wrist_data = signal[self.signal_keys[0]]\n",
    "        #wrist_ACC = wrist_data[self.wrist_sensor_keys[0]]\n",
    "        #wrist_ECG = wrist_data[self.wrist_sensor_keys[1]]\n",
    "        return wrist_data\n",
    "\n",
    "    def get_chest_data(self):\n",
    "        \"\"\"\"\"\"\n",
    "        signal = self.data[self.keys[2]]\n",
    "        chest_data = signal[self.signal_keys[1]]\n",
    "        return chest_data"
   ],
   "metadata": {
    "collapsed": false
   }
  },
  {
   "cell_type": "code",
   "execution_count": null,
   "outputs": [],
   "source": [
    "data_set_path = \"data/WESAD\"\n",
    "subject = 'S3'"
   ],
   "metadata": {
    "collapsed": false
   }
  },
  {
   "cell_type": "code",
   "execution_count": null,
   "outputs": [],
   "source": [
    "obj_data = {}\n",
    "obj_data[subject] = read_data_of_one_subject(data_set_path, subject)"
   ],
   "metadata": {
    "collapsed": false
   }
  },
  {
   "cell_type": "code",
   "execution_count": null,
   "outputs": [],
   "source": [
    "chest_data_dict = obj_data[subject].get_chest_data()\n",
    "chest_dict_length = {key: len(value) for key, value in chest_data_dict.items()}\n",
    "print(chest_dict_length)"
   ],
   "metadata": {
    "collapsed": false
   }
  },
  {
   "cell_type": "code",
   "execution_count": null,
   "outputs": [],
   "source": [
    "# Get labels\n",
    "labels = obj_data[subject].get_labels()\n",
    "baseline = np.asarray([idx for idx,val in enumerate(labels) if val == 1])\n",
    "#print(baseline)\n",
    "\n",
    "print(\"Baseline:\", chest_data_dict['ECG'][baseline].shape)"
   ],
   "metadata": {
    "collapsed": false
   }
  },
  {
   "cell_type": "code",
   "execution_count": null,
   "outputs": [],
   "source": [],
   "metadata": {
    "collapsed": false
   }
  },
  {
   "cell_type": "code",
   "execution_count": null,
   "outputs": [],
   "source": [],
   "metadata": {
    "collapsed": false
   }
  }
 ],
 "metadata": {
  "kernelspec": {
   "display_name": "Python 3",
   "language": "python",
   "name": "python3"
  },
  "language_info": {
   "codemirror_mode": {
    "name": "ipython",
    "version": 2
   },
   "file_extension": ".py",
   "mimetype": "text/x-python",
   "name": "python",
   "nbconvert_exporter": "python",
   "pygments_lexer": "ipython2",
   "version": "2.7.6"
  }
 },
 "nbformat": 4,
 "nbformat_minor": 0
}
