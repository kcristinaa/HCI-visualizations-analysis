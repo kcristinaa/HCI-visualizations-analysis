{
 "cells": [
  {
   "cell_type": "code",
   "execution_count": 1,
   "metadata": {
    "collapsed": true,
    "ExecuteTime": {
     "end_time": "2023-08-12T18:00:14.576625Z",
     "start_time": "2023-08-12T18:00:13.578831900Z"
    }
   },
   "outputs": [
    {
     "name": "stderr",
     "output_type": "stream",
     "text": [
      "C:\\Users\\Christina\\anaconda3\\lib\\site-packages\\numpy\\_distributor_init.py:30: UserWarning: loaded more than 1 DLL from .libs:\n",
      "C:\\Users\\Christina\\anaconda3\\lib\\site-packages\\numpy\\.libs\\libopenblas.XWYDX2IKJW2NMTWSFYNGFUWKQU3LYTCZ.gfortran-win_amd64.dll\n",
      "C:\\Users\\Christina\\anaconda3\\lib\\site-packages\\numpy\\.libs\\libopenblas64__v0.3.21-gcc_10_3_0.dll\n",
      "  warnings.warn(\"loaded more than 1 DLL from .libs:\"\n"
     ]
    }
   ],
   "source": [
    "import pandas as pd\n",
    "import pickle"
   ]
  },
  {
   "cell_type": "code",
   "execution_count": 2,
   "outputs": [
    {
     "name": "stdout",
     "output_type": "stream",
     "text": [
      "              Personal information\n",
      "Age                             27\n",
      "Dominant hand                right\n",
      "Gender                        male\n",
      "Height (cm)                    175\n",
      "Weight (kg)                     80\n"
     ]
    }
   ],
   "source": [
    "# Read the text file\n",
    "with open('data\\WESAD\\S2\\S2_readme.txt', 'r') as f:\n",
    "    lines = f.readlines()\n",
    "\n",
    "# Initialize variables to store data\n",
    "data = {}\n",
    "current_section = None\n",
    "\n",
    "# Process each line of the text file\n",
    "for line in lines:\n",
    "    line = line.strip()\n",
    "    if line.startswith(\"###\") and line.endswith(\"###\"):\n",
    "        current_section = line.strip(\"# \")\n",
    "    elif not line.startswith(\"#\") and \":\" in line:\n",
    "        key, value = map(str.strip, line.split(\":\", 1))\n",
    "        if current_section not in data:\n",
    "            data[current_section] = {}\n",
    "        data[current_section][key] = value\n",
    "\n",
    "# Create a pandas DataFrame\n",
    "df = pd.DataFrame(data)\n",
    "\n",
    "# Print the DataFrame\n",
    "print(df)"
   ],
   "metadata": {
    "collapsed": false,
    "ExecuteTime": {
     "end_time": "2023-08-12T18:05:18.479262400Z",
     "start_time": "2023-08-12T18:05:18.419884800Z"
    }
   }
  },
  {
   "cell_type": "code",
   "execution_count": 4,
   "outputs": [
    {
     "name": "stdout",
     "output_type": "stream",
     "text": [
      "  Age Height (cm) Weight (kg) Gender Dominant hand\n",
      "0  27         175          80   male         right\n"
     ]
    }
   ],
   "source": [
    "import pandas as pd\n",
    "\n",
    "# Read the text file\n",
    "with open('data\\WESAD\\S2\\S2_readme.txt', 'r') as f:\n",
    "    lines = f.readlines()\n",
    "\n",
    "# Initialize variables to store personal information\n",
    "personal_info = {\n",
    "    \"Age\": None,\n",
    "    \"Height (cm)\": None,\n",
    "    \"Weight (kg)\": None,\n",
    "    \"Gender\": None,\n",
    "    \"Dominant hand\": None\n",
    "}\n",
    "\n",
    "# Process each line of the text file\n",
    "for line in lines:\n",
    "    if \":\" in line:\n",
    "        key, value = map(str.strip, line.split(\":\", 1))\n",
    "        if key in personal_info:\n",
    "            personal_info[key] = value\n",
    "\n",
    "# Create a pandas DataFrame\n",
    "df = pd.DataFrame([personal_info])\n",
    "\n",
    "# Print the DataFrame\n",
    "print(df)"
   ],
   "metadata": {
    "collapsed": false,
    "ExecuteTime": {
     "end_time": "2023-08-12T18:07:31.545693600Z",
     "start_time": "2023-08-12T18:07:31.533781600Z"
    }
   }
  }
 ],
 "metadata": {
  "kernelspec": {
   "display_name": "Python 3",
   "language": "python",
   "name": "python3"
  },
  "language_info": {
   "codemirror_mode": {
    "name": "ipython",
    "version": 2
   },
   "file_extension": ".py",
   "mimetype": "text/x-python",
   "name": "python",
   "nbconvert_exporter": "python",
   "pygments_lexer": "ipython2",
   "version": "2.7.6"
  }
 },
 "nbformat": 4,
 "nbformat_minor": 0
}
