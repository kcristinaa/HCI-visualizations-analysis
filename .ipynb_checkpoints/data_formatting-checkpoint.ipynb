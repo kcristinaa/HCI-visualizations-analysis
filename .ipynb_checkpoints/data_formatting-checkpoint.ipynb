{
 "cells": [
  {
   "cell_type": "code",
   "execution_count": 1,
   "metadata": {
    "collapsed": true,
    "ExecuteTime": {
     "end_time": "2023-08-17T15:20:59.020600500Z",
     "start_time": "2023-08-17T15:20:59.007136700Z"
    }
   },
   "outputs": [],
   "source": [
    "import pandas as pd\n",
    "import os\n",
    "import numpy as np"
   ]
  },
  {
   "cell_type": "code",
   "execution_count": 2,
   "outputs": [
    {
     "data": {
      "text/plain": "   id Age Height (cm) Weight (kg)  Gender Dominant hand  \\\n0   2  27         175          80    male         right   \n0   3  27         173          69    male         right   \n0   4  25         175          90    male         right   \n0   5  35         189          80    male         right   \n0   6  27         170          66    male         right   \n0   7  28         184          74    male         right   \n0   8  27         172          64  female          left   \n0   9  26         181          75    male         right   \n0  10  28         178          76    male         right   \n0  11  26         171          54  female         right   \n0  13  28         181          82    male         right   \n0  14  27         180          80    male         right   \n0  15  28         186          83    male         right   \n0  16  24         184          69    male         right   \n0  17  29         165          55  female         right   \n\n  Did you drink coffee today Did you drink coffee within the last hour  \\\n0                         NO                                        NO   \n0                         NO                                        NO   \n0                         NO                                        NO   \n0                        YES                                        NO   \n0                        YES                                        NO   \n0                         NO                                        NO   \n0                        YES                                        NO   \n0                         NO                                        NO   \n0                         NO                                        NO   \n0                        YES                                        NO   \n0                         NO                                        NO   \n0                         NO                                        NO   \n0                         NO                                        NO   \n0                         NO                                        NO   \n0                         NO                                        NO   \n\n  Did you do any sports today Are you a smoker  \\\n0                          NO               NO   \n0                          NO               NO   \n0                          NO               NO   \n0                          NO               NO   \n0                          NO              YES   \n0                         YES               NO   \n0                         YES               NO   \n0                          NO               NO   \n0                          NO               NO   \n0                          NO               NO   \n0                          NO               NO   \n0                          NO               NO   \n0                          NO               NO   \n0                          NO               NO   \n0                          NO               NO   \n\n  Did you smoke within the last hour Do you feel ill today  \n0                                 NO                    NO  \n0                                 NO                    NO  \n0                                 NO                    NO  \n0                                 NO                    NO  \n0                                 NO                    NO  \n0                                 NO                    NO  \n0                                 NO                    NO  \n0                                 NO                   YES  \n0                                 NO                    NO  \n0                                 NO                    NO  \n0                                 NO                    NO  \n0                                 NO                    NO  \n0                                 NO                    NO  \n0                                 NO                    NO  \n0                                 NO                    NO  ",
      "text/html": "<div>\n<style scoped>\n    .dataframe tbody tr th:only-of-type {\n        vertical-align: middle;\n    }\n\n    .dataframe tbody tr th {\n        vertical-align: top;\n    }\n\n    .dataframe thead th {\n        text-align: right;\n    }\n</style>\n<table border=\"1\" class=\"dataframe\">\n  <thead>\n    <tr style=\"text-align: right;\">\n      <th></th>\n      <th>id</th>\n      <th>Age</th>\n      <th>Height (cm)</th>\n      <th>Weight (kg)</th>\n      <th>Gender</th>\n      <th>Dominant hand</th>\n      <th>Did you drink coffee today</th>\n      <th>Did you drink coffee within the last hour</th>\n      <th>Did you do any sports today</th>\n      <th>Are you a smoker</th>\n      <th>Did you smoke within the last hour</th>\n      <th>Do you feel ill today</th>\n    </tr>\n  </thead>\n  <tbody>\n    <tr>\n      <th>0</th>\n      <td>2</td>\n      <td>27</td>\n      <td>175</td>\n      <td>80</td>\n      <td>male</td>\n      <td>right</td>\n      <td>NO</td>\n      <td>NO</td>\n      <td>NO</td>\n      <td>NO</td>\n      <td>NO</td>\n      <td>NO</td>\n    </tr>\n    <tr>\n      <th>0</th>\n      <td>3</td>\n      <td>27</td>\n      <td>173</td>\n      <td>69</td>\n      <td>male</td>\n      <td>right</td>\n      <td>NO</td>\n      <td>NO</td>\n      <td>NO</td>\n      <td>NO</td>\n      <td>NO</td>\n      <td>NO</td>\n    </tr>\n    <tr>\n      <th>0</th>\n      <td>4</td>\n      <td>25</td>\n      <td>175</td>\n      <td>90</td>\n      <td>male</td>\n      <td>right</td>\n      <td>NO</td>\n      <td>NO</td>\n      <td>NO</td>\n      <td>NO</td>\n      <td>NO</td>\n      <td>NO</td>\n    </tr>\n    <tr>\n      <th>0</th>\n      <td>5</td>\n      <td>35</td>\n      <td>189</td>\n      <td>80</td>\n      <td>male</td>\n      <td>right</td>\n      <td>YES</td>\n      <td>NO</td>\n      <td>NO</td>\n      <td>NO</td>\n      <td>NO</td>\n      <td>NO</td>\n    </tr>\n    <tr>\n      <th>0</th>\n      <td>6</td>\n      <td>27</td>\n      <td>170</td>\n      <td>66</td>\n      <td>male</td>\n      <td>right</td>\n      <td>YES</td>\n      <td>NO</td>\n      <td>NO</td>\n      <td>YES</td>\n      <td>NO</td>\n      <td>NO</td>\n    </tr>\n    <tr>\n      <th>0</th>\n      <td>7</td>\n      <td>28</td>\n      <td>184</td>\n      <td>74</td>\n      <td>male</td>\n      <td>right</td>\n      <td>NO</td>\n      <td>NO</td>\n      <td>YES</td>\n      <td>NO</td>\n      <td>NO</td>\n      <td>NO</td>\n    </tr>\n    <tr>\n      <th>0</th>\n      <td>8</td>\n      <td>27</td>\n      <td>172</td>\n      <td>64</td>\n      <td>female</td>\n      <td>left</td>\n      <td>YES</td>\n      <td>NO</td>\n      <td>YES</td>\n      <td>NO</td>\n      <td>NO</td>\n      <td>NO</td>\n    </tr>\n    <tr>\n      <th>0</th>\n      <td>9</td>\n      <td>26</td>\n      <td>181</td>\n      <td>75</td>\n      <td>male</td>\n      <td>right</td>\n      <td>NO</td>\n      <td>NO</td>\n      <td>NO</td>\n      <td>NO</td>\n      <td>NO</td>\n      <td>YES</td>\n    </tr>\n    <tr>\n      <th>0</th>\n      <td>10</td>\n      <td>28</td>\n      <td>178</td>\n      <td>76</td>\n      <td>male</td>\n      <td>right</td>\n      <td>NO</td>\n      <td>NO</td>\n      <td>NO</td>\n      <td>NO</td>\n      <td>NO</td>\n      <td>NO</td>\n    </tr>\n    <tr>\n      <th>0</th>\n      <td>11</td>\n      <td>26</td>\n      <td>171</td>\n      <td>54</td>\n      <td>female</td>\n      <td>right</td>\n      <td>YES</td>\n      <td>NO</td>\n      <td>NO</td>\n      <td>NO</td>\n      <td>NO</td>\n      <td>NO</td>\n    </tr>\n    <tr>\n      <th>0</th>\n      <td>13</td>\n      <td>28</td>\n      <td>181</td>\n      <td>82</td>\n      <td>male</td>\n      <td>right</td>\n      <td>NO</td>\n      <td>NO</td>\n      <td>NO</td>\n      <td>NO</td>\n      <td>NO</td>\n      <td>NO</td>\n    </tr>\n    <tr>\n      <th>0</th>\n      <td>14</td>\n      <td>27</td>\n      <td>180</td>\n      <td>80</td>\n      <td>male</td>\n      <td>right</td>\n      <td>NO</td>\n      <td>NO</td>\n      <td>NO</td>\n      <td>NO</td>\n      <td>NO</td>\n      <td>NO</td>\n    </tr>\n    <tr>\n      <th>0</th>\n      <td>15</td>\n      <td>28</td>\n      <td>186</td>\n      <td>83</td>\n      <td>male</td>\n      <td>right</td>\n      <td>NO</td>\n      <td>NO</td>\n      <td>NO</td>\n      <td>NO</td>\n      <td>NO</td>\n      <td>NO</td>\n    </tr>\n    <tr>\n      <th>0</th>\n      <td>16</td>\n      <td>24</td>\n      <td>184</td>\n      <td>69</td>\n      <td>male</td>\n      <td>right</td>\n      <td>NO</td>\n      <td>NO</td>\n      <td>NO</td>\n      <td>NO</td>\n      <td>NO</td>\n      <td>NO</td>\n    </tr>\n    <tr>\n      <th>0</th>\n      <td>17</td>\n      <td>29</td>\n      <td>165</td>\n      <td>55</td>\n      <td>female</td>\n      <td>right</td>\n      <td>NO</td>\n      <td>NO</td>\n      <td>NO</td>\n      <td>NO</td>\n      <td>NO</td>\n      <td>NO</td>\n    </tr>\n  </tbody>\n</table>\n</div>"
     },
     "execution_count": 2,
     "metadata": {},
     "output_type": "execute_result"
    }
   ],
   "source": [
    "# read the txt readme files\n",
    "\n",
    "demo=pd.DataFrame()\n",
    "\n",
    "numbers=[2,3,4,5,6,7,8,9,10,11,13,14,15,16,17]\n",
    "\n",
    "for i in numbers:\n",
    "    filename = 'data\\WESAD\\S%i\\S%i_readme.txt'%(i,i)\n",
    "\n",
    "#filename = 'data\\WESAD\\S8\\S8_readme.txt'\n",
    "\n",
    "    with open(filename, 'r') as file:\n",
    "        lines = file.readlines()\n",
    "\n",
    "    subject_number = int(os.path.basename(filename).split('S')[1].split('_')[0])\n",
    "    data = {'id': subject_number}\n",
    "    current_header = None\n",
    "\n",
    "    for line in lines:\n",
    "        parts = line.strip().split(':')  # Split using ':' as delimiter\n",
    "        if len(parts) == 1:  # If ':' is not found, split using '?' as delimiter\n",
    "            parts = line.strip().split('?')\n",
    "        if len(parts) > 1:\n",
    "            header = parts[0].strip()  # Extract the column header\n",
    "            value = ':'.join(parts[1:]).strip()  # Join remaining parts as value\n",
    "            data[header] = value\n",
    "\n",
    "    # Create a Pandas DataFrame\n",
    "    user_df = pd.DataFrame([data])\n",
    "    # before the next user, add this user_df to the total dataframe\n",
    "    demo = pd.concat([demo, user_df])\n",
    "\n",
    "demo = demo.drop(columns=['Stress condition / TSST interview part'])\n",
    "demo"
   ],
   "metadata": {
    "collapsed": false,
    "ExecuteTime": {
     "end_time": "2023-08-17T15:20:59.084002700Z",
     "start_time": "2023-08-17T15:20:59.023600500Z"
    }
   }
  },
  {
   "cell_type": "code",
   "execution_count": 3,
   "outputs": [
    {
     "data": {
      "text/plain": "           ECG    EDA    EMG   TEMP   XYZ1   XYZ2   XYZ3  RESPIRATION  id\n0        31053  14694  32651  29553  37415  32324  31659        31364   2\n1        30861  14680  32983  29556  37417  32333  31663        31379   2\n2        30644  14684  32823  29561  37409  32340  31655        31367   2\n3        30374  14701  32569  29553  37405  32341  31671        31076   2\n4        30103  14684  32794  29561  37409  32342  31681        31365   2\n...        ...    ...    ...    ...    ...    ...    ...          ...  ..\n4287113  36680  19311  30975  26601  37414  32735  31854        34583  17\n4287114  36463  19305  32161  26611  37423  32743  31839        34579  17\n4287115  36156  19301  32771  26643  37415  32741  31823        34557  17\n4287116  36104  19300  33127  26615  37415  32747  31827        34539  17\n4287117  35960  19295  33124  26605  37409  32741  31831        34555  17\n\n[62935498 rows x 9 columns]",
      "text/html": "<div>\n<style scoped>\n    .dataframe tbody tr th:only-of-type {\n        vertical-align: middle;\n    }\n\n    .dataframe tbody tr th {\n        vertical-align: top;\n    }\n\n    .dataframe thead th {\n        text-align: right;\n    }\n</style>\n<table border=\"1\" class=\"dataframe\">\n  <thead>\n    <tr style=\"text-align: right;\">\n      <th></th>\n      <th>ECG</th>\n      <th>EDA</th>\n      <th>EMG</th>\n      <th>TEMP</th>\n      <th>XYZ1</th>\n      <th>XYZ2</th>\n      <th>XYZ3</th>\n      <th>RESPIRATION</th>\n      <th>id</th>\n    </tr>\n  </thead>\n  <tbody>\n    <tr>\n      <th>0</th>\n      <td>31053</td>\n      <td>14694</td>\n      <td>32651</td>\n      <td>29553</td>\n      <td>37415</td>\n      <td>32324</td>\n      <td>31659</td>\n      <td>31364</td>\n      <td>2</td>\n    </tr>\n    <tr>\n      <th>1</th>\n      <td>30861</td>\n      <td>14680</td>\n      <td>32983</td>\n      <td>29556</td>\n      <td>37417</td>\n      <td>32333</td>\n      <td>31663</td>\n      <td>31379</td>\n      <td>2</td>\n    </tr>\n    <tr>\n      <th>2</th>\n      <td>30644</td>\n      <td>14684</td>\n      <td>32823</td>\n      <td>29561</td>\n      <td>37409</td>\n      <td>32340</td>\n      <td>31655</td>\n      <td>31367</td>\n      <td>2</td>\n    </tr>\n    <tr>\n      <th>3</th>\n      <td>30374</td>\n      <td>14701</td>\n      <td>32569</td>\n      <td>29553</td>\n      <td>37405</td>\n      <td>32341</td>\n      <td>31671</td>\n      <td>31076</td>\n      <td>2</td>\n    </tr>\n    <tr>\n      <th>4</th>\n      <td>30103</td>\n      <td>14684</td>\n      <td>32794</td>\n      <td>29561</td>\n      <td>37409</td>\n      <td>32342</td>\n      <td>31681</td>\n      <td>31365</td>\n      <td>2</td>\n    </tr>\n    <tr>\n      <th>...</th>\n      <td>...</td>\n      <td>...</td>\n      <td>...</td>\n      <td>...</td>\n      <td>...</td>\n      <td>...</td>\n      <td>...</td>\n      <td>...</td>\n      <td>...</td>\n    </tr>\n    <tr>\n      <th>4287113</th>\n      <td>36680</td>\n      <td>19311</td>\n      <td>30975</td>\n      <td>26601</td>\n      <td>37414</td>\n      <td>32735</td>\n      <td>31854</td>\n      <td>34583</td>\n      <td>17</td>\n    </tr>\n    <tr>\n      <th>4287114</th>\n      <td>36463</td>\n      <td>19305</td>\n      <td>32161</td>\n      <td>26611</td>\n      <td>37423</td>\n      <td>32743</td>\n      <td>31839</td>\n      <td>34579</td>\n      <td>17</td>\n    </tr>\n    <tr>\n      <th>4287115</th>\n      <td>36156</td>\n      <td>19301</td>\n      <td>32771</td>\n      <td>26643</td>\n      <td>37415</td>\n      <td>32741</td>\n      <td>31823</td>\n      <td>34557</td>\n      <td>17</td>\n    </tr>\n    <tr>\n      <th>4287116</th>\n      <td>36104</td>\n      <td>19300</td>\n      <td>33127</td>\n      <td>26615</td>\n      <td>37415</td>\n      <td>32747</td>\n      <td>31827</td>\n      <td>34539</td>\n      <td>17</td>\n    </tr>\n    <tr>\n      <th>4287117</th>\n      <td>35960</td>\n      <td>19295</td>\n      <td>33124</td>\n      <td>26605</td>\n      <td>37409</td>\n      <td>32741</td>\n      <td>31831</td>\n      <td>34555</td>\n      <td>17</td>\n    </tr>\n  </tbody>\n</table>\n<p>62935498 rows × 9 columns</p>\n</div>"
     },
     "execution_count": 3,
     "metadata": {},
     "output_type": "execute_result"
    }
   ],
   "source": [
    "# read the txt respiban files\n",
    "\n",
    "respiban=pd.DataFrame()\n",
    "\n",
    "for i in numbers:\n",
    "    filename = 'data\\WESAD\\S%i\\S%i_respiban.txt'%(i,i)\n",
    "    user_df=pd.DataFrame()\n",
    "    user_df = pd.read_csv(filename, sep='\\t', header=None, skiprows=3)\n",
    "    user_df['id'] = i\n",
    "\n",
    "    # before the next user, add this user_df to the total dataframe\n",
    "    respiban = pd.concat([respiban, user_df])\n",
    "\n",
    "respiban = respiban.drop(columns=[0,1,10])\n",
    "respiban.columns = ['ECG', 'EDA', 'EMG', 'TEMP', 'XYZ1', 'XYZ2', 'XYZ3', 'RESPIRATION', 'id']\n",
    "respiban"
   ],
   "metadata": {
    "collapsed": false,
    "ExecuteTime": {
     "end_time": "2023-08-17T15:22:49.199029300Z",
     "start_time": "2023-08-17T15:20:59.086965300Z"
    }
   }
  },
  {
   "cell_type": "code",
   "execution_count": 4,
   "outputs": [
    {
     "name": "stderr",
     "output_type": "stream",
     "text": [
      "C:\\Users\\Christina\\anaconda3\\lib\\site-packages\\pandas\\core\\arraylike.py:397: RuntimeWarning: divide by zero encountered in log\n",
      "  result = getattr(ufunc, method)(*inputs, **kwargs)\n"
     ]
    },
    {
     "data": {
      "text/plain": "           ECG    EDA    EMG   TEMP   XYZ1   XYZ2   XYZ3  RESPIRATION  id  \\\n0        31053  14694  32651  29553  37415  32324  31659        31364   2   \n1        30861  14680  32983  29556  37417  32333  31663        31379   2   \n2        30644  14684  32823  29561  37409  32340  31655        31367   2   \n3        30374  14701  32569  29553  37405  32341  31671        31076   2   \n4        30103  14684  32794  29561  37409  32342  31681        31365   2   \n...        ...    ...    ...    ...    ...    ...    ...          ...  ..   \n4287113  36680  19311  30975  26601  37414  32735  31854        34583  17   \n4287114  36463  19305  32161  26611  37423  32743  31839        34579  17   \n4287115  36156  19301  32771  26643  37415  32741  31823        34557  17   \n4287116  36104  19300  33127  26615  37415  32747  31827        34539  17   \n4287117  35960  19295  33124  26605  37409  32741  31831        34555  17   \n\n         ECG (mV)  EDA (μS)  EMG (mV)  TEMP (^oC)  \n0       -0.078506  5.605316 -0.005356   29.550295  \n1       -0.087296  5.599976  0.009842   29.545964  \n2       -0.097229  5.601501  0.002518   29.538746  \n3       -0.109589  5.607986 -0.009109   29.550295  \n4       -0.121994  5.601501  0.001190   29.538746  \n...           ...       ...       ...         ...  \n4287113  0.179077  7.366562 -0.082077   33.917470  \n4287114  0.169144  7.364273 -0.027786   33.902269  \n4287115  0.155090  7.362747  0.000137   33.853647  \n4287116  0.152710  7.362366  0.016434   33.896190  \n4287117  0.146118  7.360458  0.016296   33.911389  \n\n[62935498 rows x 13 columns]",
      "text/html": "<div>\n<style scoped>\n    .dataframe tbody tr th:only-of-type {\n        vertical-align: middle;\n    }\n\n    .dataframe tbody tr th {\n        vertical-align: top;\n    }\n\n    .dataframe thead th {\n        text-align: right;\n    }\n</style>\n<table border=\"1\" class=\"dataframe\">\n  <thead>\n    <tr style=\"text-align: right;\">\n      <th></th>\n      <th>ECG</th>\n      <th>EDA</th>\n      <th>EMG</th>\n      <th>TEMP</th>\n      <th>XYZ1</th>\n      <th>XYZ2</th>\n      <th>XYZ3</th>\n      <th>RESPIRATION</th>\n      <th>id</th>\n      <th>ECG (mV)</th>\n      <th>EDA (μS)</th>\n      <th>EMG (mV)</th>\n      <th>TEMP (^oC)</th>\n    </tr>\n  </thead>\n  <tbody>\n    <tr>\n      <th>0</th>\n      <td>31053</td>\n      <td>14694</td>\n      <td>32651</td>\n      <td>29553</td>\n      <td>37415</td>\n      <td>32324</td>\n      <td>31659</td>\n      <td>31364</td>\n      <td>2</td>\n      <td>-0.078506</td>\n      <td>5.605316</td>\n      <td>-0.005356</td>\n      <td>29.550295</td>\n    </tr>\n    <tr>\n      <th>1</th>\n      <td>30861</td>\n      <td>14680</td>\n      <td>32983</td>\n      <td>29556</td>\n      <td>37417</td>\n      <td>32333</td>\n      <td>31663</td>\n      <td>31379</td>\n      <td>2</td>\n      <td>-0.087296</td>\n      <td>5.599976</td>\n      <td>0.009842</td>\n      <td>29.545964</td>\n    </tr>\n    <tr>\n      <th>2</th>\n      <td>30644</td>\n      <td>14684</td>\n      <td>32823</td>\n      <td>29561</td>\n      <td>37409</td>\n      <td>32340</td>\n      <td>31655</td>\n      <td>31367</td>\n      <td>2</td>\n      <td>-0.097229</td>\n      <td>5.601501</td>\n      <td>0.002518</td>\n      <td>29.538746</td>\n    </tr>\n    <tr>\n      <th>3</th>\n      <td>30374</td>\n      <td>14701</td>\n      <td>32569</td>\n      <td>29553</td>\n      <td>37405</td>\n      <td>32341</td>\n      <td>31671</td>\n      <td>31076</td>\n      <td>2</td>\n      <td>-0.109589</td>\n      <td>5.607986</td>\n      <td>-0.009109</td>\n      <td>29.550295</td>\n    </tr>\n    <tr>\n      <th>4</th>\n      <td>30103</td>\n      <td>14684</td>\n      <td>32794</td>\n      <td>29561</td>\n      <td>37409</td>\n      <td>32342</td>\n      <td>31681</td>\n      <td>31365</td>\n      <td>2</td>\n      <td>-0.121994</td>\n      <td>5.601501</td>\n      <td>0.001190</td>\n      <td>29.538746</td>\n    </tr>\n    <tr>\n      <th>...</th>\n      <td>...</td>\n      <td>...</td>\n      <td>...</td>\n      <td>...</td>\n      <td>...</td>\n      <td>...</td>\n      <td>...</td>\n      <td>...</td>\n      <td>...</td>\n      <td>...</td>\n      <td>...</td>\n      <td>...</td>\n      <td>...</td>\n    </tr>\n    <tr>\n      <th>4287113</th>\n      <td>36680</td>\n      <td>19311</td>\n      <td>30975</td>\n      <td>26601</td>\n      <td>37414</td>\n      <td>32735</td>\n      <td>31854</td>\n      <td>34583</td>\n      <td>17</td>\n      <td>0.179077</td>\n      <td>7.366562</td>\n      <td>-0.082077</td>\n      <td>33.917470</td>\n    </tr>\n    <tr>\n      <th>4287114</th>\n      <td>36463</td>\n      <td>19305</td>\n      <td>32161</td>\n      <td>26611</td>\n      <td>37423</td>\n      <td>32743</td>\n      <td>31839</td>\n      <td>34579</td>\n      <td>17</td>\n      <td>0.169144</td>\n      <td>7.364273</td>\n      <td>-0.027786</td>\n      <td>33.902269</td>\n    </tr>\n    <tr>\n      <th>4287115</th>\n      <td>36156</td>\n      <td>19301</td>\n      <td>32771</td>\n      <td>26643</td>\n      <td>37415</td>\n      <td>32741</td>\n      <td>31823</td>\n      <td>34557</td>\n      <td>17</td>\n      <td>0.155090</td>\n      <td>7.362747</td>\n      <td>0.000137</td>\n      <td>33.853647</td>\n    </tr>\n    <tr>\n      <th>4287116</th>\n      <td>36104</td>\n      <td>19300</td>\n      <td>33127</td>\n      <td>26615</td>\n      <td>37415</td>\n      <td>32747</td>\n      <td>31827</td>\n      <td>34539</td>\n      <td>17</td>\n      <td>0.152710</td>\n      <td>7.362366</td>\n      <td>0.016434</td>\n      <td>33.896190</td>\n    </tr>\n    <tr>\n      <th>4287117</th>\n      <td>35960</td>\n      <td>19295</td>\n      <td>33124</td>\n      <td>26605</td>\n      <td>37409</td>\n      <td>32741</td>\n      <td>31831</td>\n      <td>34555</td>\n      <td>17</td>\n      <td>0.146118</td>\n      <td>7.360458</td>\n      <td>0.016296</td>\n      <td>33.911389</td>\n    </tr>\n  </tbody>\n</table>\n<p>62935498 rows × 13 columns</p>\n</div>"
     },
     "execution_count": 4,
     "metadata": {},
     "output_type": "execute_result"
    }
   ],
   "source": [
    "chan_bit=2**16\n",
    "vcc=3\n",
    "\n",
    "respiban['ECG (mV)'] = ((respiban['ECG'] / chan_bit - 0.5) * vcc)\n",
    "respiban['EDA (μS)'] = (((respiban['EDA']/chan_bit)*vcc)/0.12)\n",
    "respiban['EMG (mV)'] = ((respiban['EMG']/chan_bit-0.5)*vcc)\n",
    "vout = (respiban['TEMP']*vcc)/(chan_bit-1.)\n",
    "rntc = ((10**4)*vout)/(vcc-vout)\n",
    "respiban['TEMP (^oC)'] = -273.15 + 1./(1.12764514*(10**(-3)) + 2.34282709*(10**(-4))*np.log(rntc)+8.77303013*(10**(-8))*(np.log(rntc)**3))\n",
    "respiban"
   ],
   "metadata": {
    "collapsed": false,
    "ExecuteTime": {
     "end_time": "2023-08-17T15:22:55.619343100Z",
     "start_time": "2023-08-17T15:22:49.184728600Z"
    }
   }
  },
  {
   "cell_type": "code",
   "execution_count": 5,
   "outputs": [
    {
     "data": {
      "text/plain": "    id  PA_Score  NA_Score\n0    2        20        12\n1    2        24        15\n2    2        15        10\n3    2        31        38\n4    2        23        14\n..  ..       ...       ...\n0   17        20        12\n1   17        24        15\n2   17        15        10\n3   17        31        38\n4   17        23        14\n\n[75 rows x 3 columns]",
      "text/html": "<div>\n<style scoped>\n    .dataframe tbody tr th:only-of-type {\n        vertical-align: middle;\n    }\n\n    .dataframe tbody tr th {\n        vertical-align: top;\n    }\n\n    .dataframe thead th {\n        text-align: right;\n    }\n</style>\n<table border=\"1\" class=\"dataframe\">\n  <thead>\n    <tr style=\"text-align: right;\">\n      <th></th>\n      <th>id</th>\n      <th>PA_Score</th>\n      <th>NA_Score</th>\n    </tr>\n  </thead>\n  <tbody>\n    <tr>\n      <th>0</th>\n      <td>2</td>\n      <td>20</td>\n      <td>12</td>\n    </tr>\n    <tr>\n      <th>1</th>\n      <td>2</td>\n      <td>24</td>\n      <td>15</td>\n    </tr>\n    <tr>\n      <th>2</th>\n      <td>2</td>\n      <td>15</td>\n      <td>10</td>\n    </tr>\n    <tr>\n      <th>3</th>\n      <td>2</td>\n      <td>31</td>\n      <td>38</td>\n    </tr>\n    <tr>\n      <th>4</th>\n      <td>2</td>\n      <td>23</td>\n      <td>14</td>\n    </tr>\n    <tr>\n      <th>...</th>\n      <td>...</td>\n      <td>...</td>\n      <td>...</td>\n    </tr>\n    <tr>\n      <th>0</th>\n      <td>17</td>\n      <td>20</td>\n      <td>12</td>\n    </tr>\n    <tr>\n      <th>1</th>\n      <td>17</td>\n      <td>24</td>\n      <td>15</td>\n    </tr>\n    <tr>\n      <th>2</th>\n      <td>17</td>\n      <td>15</td>\n      <td>10</td>\n    </tr>\n    <tr>\n      <th>3</th>\n      <td>17</td>\n      <td>31</td>\n      <td>38</td>\n    </tr>\n    <tr>\n      <th>4</th>\n      <td>17</td>\n      <td>23</td>\n      <td>14</td>\n    </tr>\n  </tbody>\n</table>\n<p>75 rows × 3 columns</p>\n</div>"
     },
     "execution_count": 5,
     "metadata": {},
     "output_type": "execute_result"
    }
   ],
   "source": [
    "# read the PANAS self questionnaires csv files\n",
    "\n",
    "# PANAS scores can range from 10 to 50, with higher scores representing higher levels of positive or negative affect, respectively.\n",
    "\n",
    "def calculate_panas_scores_from_dataframe(df):\n",
    "\n",
    "    positive_headers = [\"Interested\", \"Inspired\", \"Guilty\", \"Excited\", \"Irritable\", \"Alert\", \"Attentive\", \"Jittery\", \"Afraid\", \"Stressed\"]\n",
    "    negative_headers = [\"Active\", \"Distressed\", \"Annoyed\", \"Strong\", \"Scared\", \"Hostile\", \"Proud\", \"Enthusiastic\", \"Ashamed\", \"Sad\", \"(Angry)\", \"(Irritated)\"]\n",
    "\n",
    "    df[positive_headers + negative_headers] = df[positive_headers + negative_headers].apply(pd.to_numeric, errors='coerce').fillna(0)\n",
    "\n",
    "    pa_score = df[positive_headers].astype(int).sum(axis=1)\n",
    "    na_score = df[negative_headers].astype(int).sum(axis=1)\n",
    "\n",
    "    df['PA_Score'] = pa_score\n",
    "    df['NA_Score'] = na_score\n",
    "\n",
    "    return df\n",
    "\n",
    "numbers=[2,3,4,5,6,7,8,9,10,11,13,14,15,16,17]\n",
    "\n",
    "panas=pd.DataFrame()\n",
    "\n",
    "for user in numbers:\n",
    "    filename = 'data\\WESAD\\S%i\\S%i_quest.csv'%(i,i)\n",
    "    #user_df=pd.DataFrame()\n",
    "\n",
    "    lines_to_read = 5\n",
    "    data = []\n",
    "\n",
    "    header_mapping = {\n",
    "    1: \"Active\",\n",
    "    2: \"Distressed\",\n",
    "    3: \"Interested\",\n",
    "    4: \"Inspired\",\n",
    "    5: \"Annoyed\",\n",
    "    6: \"Strong\",\n",
    "    7: \"Guilty\",\n",
    "    8: \"Scared\",\n",
    "    9: \"Hostile\",\n",
    "    10: \"Excited\",\n",
    "    11: \"Proud\",\n",
    "    12: \"Irritable\",\n",
    "    13: \"Enthusiastic\",\n",
    "    14: \"Ashamed\",\n",
    "    15: \"Alert\",\n",
    "    16: \"Nervous\",\n",
    "    17: \"Determined\",\n",
    "    18: \"Attentive\",\n",
    "    19: \"Jittery\",\n",
    "    20: \"Afraid\",\n",
    "    21: \"Stressed\",\n",
    "    22: \"Frustrated\",\n",
    "    23: \"Happy\",\n",
    "    24: \"Sad\",\n",
    "    25: \"(Angry)\",\n",
    "    26: \"(Irritated)\"\n",
    "}\n",
    "\n",
    "    with open(filename, 'r') as csvfile:\n",
    "        lines_read = 0\n",
    "        for line in csvfile:\n",
    "            if lines_read >= lines_to_read:\n",
    "                break\n",
    "            if line.strip().startswith('# PANAS'):\n",
    "                values = line.strip().split(';')[1:]\n",
    "                data.append(values)\n",
    "                lines_read += 1\n",
    "\n",
    "    user_df = pd.DataFrame(data, columns=[header_mapping[i] for i in range(1, len(data[0]) + 1)])\n",
    "    user_df['id'] = user\n",
    "\n",
    "    # before the next user, add this user_df to the total dataframe\n",
    "    panas = pd.concat([panas, user_df])\n",
    "\n",
    "panas = calculate_panas_scores_from_dataframe(panas)\n",
    "panas = panas.drop(panas.iloc[:, 0:26],axis = 1)\n",
    "\n",
    "panas"
   ],
   "metadata": {
    "collapsed": false,
    "ExecuteTime": {
     "end_time": "2023-08-17T15:22:55.868619700Z",
     "start_time": "2023-08-17T15:22:55.641000400Z"
    }
   }
  },
  {
   "cell_type": "code",
   "execution_count": 6,
   "outputs": [
    {
     "data": {
      "text/plain": "    id stai_stress_category\n0    2        Above average\n1    2        Below average\n2    2        Above average\n3    2              Average\n4    2        Above average\n..  ..                  ...\n0   17        Below average\n1   17        Above average\n2   17        Below average\n3   17              Average\n4   17        Below average\n\n[75 rows x 2 columns]",
      "text/html": "<div>\n<style scoped>\n    .dataframe tbody tr th:only-of-type {\n        vertical-align: middle;\n    }\n\n    .dataframe tbody tr th {\n        vertical-align: top;\n    }\n\n    .dataframe thead th {\n        text-align: right;\n    }\n</style>\n<table border=\"1\" class=\"dataframe\">\n  <thead>\n    <tr style=\"text-align: right;\">\n      <th></th>\n      <th>id</th>\n      <th>stai_stress_category</th>\n    </tr>\n  </thead>\n  <tbody>\n    <tr>\n      <th>0</th>\n      <td>2</td>\n      <td>Above average</td>\n    </tr>\n    <tr>\n      <th>1</th>\n      <td>2</td>\n      <td>Below average</td>\n    </tr>\n    <tr>\n      <th>2</th>\n      <td>2</td>\n      <td>Above average</td>\n    </tr>\n    <tr>\n      <th>3</th>\n      <td>2</td>\n      <td>Average</td>\n    </tr>\n    <tr>\n      <th>4</th>\n      <td>2</td>\n      <td>Above average</td>\n    </tr>\n    <tr>\n      <th>...</th>\n      <td>...</td>\n      <td>...</td>\n    </tr>\n    <tr>\n      <th>0</th>\n      <td>17</td>\n      <td>Below average</td>\n    </tr>\n    <tr>\n      <th>1</th>\n      <td>17</td>\n      <td>Above average</td>\n    </tr>\n    <tr>\n      <th>2</th>\n      <td>17</td>\n      <td>Below average</td>\n    </tr>\n    <tr>\n      <th>3</th>\n      <td>17</td>\n      <td>Average</td>\n    </tr>\n    <tr>\n      <th>4</th>\n      <td>17</td>\n      <td>Below average</td>\n    </tr>\n  </tbody>\n</table>\n<p>75 rows × 2 columns</p>\n</div>"
     },
     "execution_count": 6,
     "metadata": {},
     "output_type": "execute_result"
    }
   ],
   "source": [
    "# read the STAI self questionnaires csv files\n",
    "\n",
    "# to calculate the total stress score simply sum per row\n",
    "\n",
    "numbers=[2,3,4,5,6,7,8,9,10,11,13,14,15,16,17]\n",
    "\n",
    "stai=pd.DataFrame()\n",
    "\n",
    "for user in numbers:\n",
    "    filename = 'data\\WESAD\\S%i\\S%i_quest.csv'%(user,user)\n",
    "\n",
    "    lines_to_read = 5\n",
    "    data = []\n",
    "\n",
    "    with open(filename, 'r') as csvfile:\n",
    "        lines_read = 0\n",
    "        for line in csvfile:\n",
    "            if lines_read >= lines_to_read:\n",
    "                break\n",
    "            if line.strip().startswith('# STAI'):\n",
    "                values = line.strip().split(';')[1:]\n",
    "                data.append(values)\n",
    "                lines_read += 1\n",
    "\n",
    "    user_df = pd.DataFrame(data)\n",
    "    user_df = user_df.iloc[:, 0:6]\n",
    "    user_df['id'] = user\n",
    "\n",
    "    # before the next user, add this user_df to the total dataframe\n",
    "    stai = pd.concat([stai, user_df])\n",
    "\n",
    "for column in stai.columns:\n",
    "    stai[column] = pd.to_numeric(stai[column], errors='coerce')\n",
    "\n",
    "\n",
    "stai['stai_stress'] = stai.iloc[:, 0:6].sum(axis=1)\n",
    "stai = stai.iloc[:, 6:]\n",
    "\n",
    "mean_stai = stai['stai_stress'].mean()\n",
    "std_stai = stai['stai_stress'].std()\n",
    "\n",
    "def get_stai_category(score):\n",
    "    if score < mean_stai-0.5*std_stai:\n",
    "        return \"Below average\"\n",
    "    if score > mean_stai+0.5*std_stai:\n",
    "        return \"Above average\"\n",
    "    return \"Average\"\n",
    "\n",
    "stai['stai_stress_category'] = stai['stai_stress'].apply(lambda score: get_stai_category(score))\n",
    "\n",
    "stai = stai.drop(columns=['stai_stress'])\n",
    "\n",
    "stai"
   ],
   "metadata": {
    "collapsed": false,
    "ExecuteTime": {
     "end_time": "2023-08-17T15:22:56.057739600Z",
     "start_time": "2023-08-17T15:22:55.797576900Z"
    }
   }
  },
  {
   "cell_type": "code",
   "execution_count": 7,
   "outputs": [
    {
     "ename": "MemoryError",
     "evalue": "Unable to allocate 132. TiB for an array with shape (18107578090000,) and data type object",
     "output_type": "error",
     "traceback": [
      "\u001B[1;31m---------------------------------------------------------------------------\u001B[0m",
      "\u001B[1;31mMemoryError\u001B[0m                               Traceback (most recent call last)",
      "\u001B[1;32mC:\\Users\\CHRIST~1\\AppData\\Local\\Temp/ipykernel_1148/56495476.py\u001B[0m in \u001B[0;36m<module>\u001B[1;34m\u001B[0m\n\u001B[0;32m     21\u001B[0m \u001B[1;31m# Explode arrays into rows\u001B[0m\u001B[1;33m\u001B[0m\u001B[1;33m\u001B[0m\u001B[0m\n\u001B[0;32m     22\u001B[0m \u001B[1;32mfor\u001B[0m \u001B[0mcol\u001B[0m \u001B[1;32min\u001B[0m \u001B[0mdata\u001B[0m\u001B[1;33m.\u001B[0m\u001B[0mcolumns\u001B[0m\u001B[1;33m:\u001B[0m\u001B[1;33m\u001B[0m\u001B[1;33m\u001B[0m\u001B[0m\n\u001B[1;32m---> 23\u001B[1;33m     \u001B[0mdata\u001B[0m \u001B[1;33m=\u001B[0m \u001B[0mdata\u001B[0m\u001B[1;33m.\u001B[0m\u001B[0mexplode\u001B[0m\u001B[1;33m(\u001B[0m\u001B[0mcol\u001B[0m\u001B[1;33m)\u001B[0m\u001B[1;33m\u001B[0m\u001B[1;33m\u001B[0m\u001B[0m\n\u001B[0m\u001B[0;32m     24\u001B[0m \u001B[1;33m\u001B[0m\u001B[0m\n\u001B[0;32m     25\u001B[0m \u001B[0mdata\u001B[0m\u001B[1;33m\u001B[0m\u001B[1;33m\u001B[0m\u001B[0m\n",
      "\u001B[1;32m~\\anaconda3\\lib\\site-packages\\pandas\\core\\frame.py\u001B[0m in \u001B[0;36mexplode\u001B[1;34m(self, column, ignore_index)\u001B[0m\n\u001B[0;32m   8346\u001B[0m         \u001B[0mdf\u001B[0m \u001B[1;33m=\u001B[0m \u001B[0mself\u001B[0m\u001B[1;33m.\u001B[0m\u001B[0mreset_index\u001B[0m\u001B[1;33m(\u001B[0m\u001B[0mdrop\u001B[0m\u001B[1;33m=\u001B[0m\u001B[1;32mTrue\u001B[0m\u001B[1;33m)\u001B[0m\u001B[1;33m\u001B[0m\u001B[1;33m\u001B[0m\u001B[0m\n\u001B[0;32m   8347\u001B[0m         \u001B[1;32mif\u001B[0m \u001B[0mlen\u001B[0m\u001B[1;33m(\u001B[0m\u001B[0mcolumns\u001B[0m\u001B[1;33m)\u001B[0m \u001B[1;33m==\u001B[0m \u001B[1;36m1\u001B[0m\u001B[1;33m:\u001B[0m\u001B[1;33m\u001B[0m\u001B[1;33m\u001B[0m\u001B[0m\n\u001B[1;32m-> 8348\u001B[1;33m             \u001B[0mresult\u001B[0m \u001B[1;33m=\u001B[0m \u001B[0mdf\u001B[0m\u001B[1;33m[\u001B[0m\u001B[0mcolumns\u001B[0m\u001B[1;33m[\u001B[0m\u001B[1;36m0\u001B[0m\u001B[1;33m]\u001B[0m\u001B[1;33m]\u001B[0m\u001B[1;33m.\u001B[0m\u001B[0mexplode\u001B[0m\u001B[1;33m(\u001B[0m\u001B[1;33m)\u001B[0m\u001B[1;33m\u001B[0m\u001B[1;33m\u001B[0m\u001B[0m\n\u001B[0m\u001B[0;32m   8349\u001B[0m         \u001B[1;32melse\u001B[0m\u001B[1;33m:\u001B[0m\u001B[1;33m\u001B[0m\u001B[1;33m\u001B[0m\u001B[0m\n\u001B[0;32m   8350\u001B[0m             \u001B[0mmylen\u001B[0m \u001B[1;33m=\u001B[0m \u001B[1;32mlambda\u001B[0m \u001B[0mx\u001B[0m\u001B[1;33m:\u001B[0m \u001B[0mlen\u001B[0m\u001B[1;33m(\u001B[0m\u001B[0mx\u001B[0m\u001B[1;33m)\u001B[0m \u001B[1;32mif\u001B[0m \u001B[0mis_list_like\u001B[0m\u001B[1;33m(\u001B[0m\u001B[0mx\u001B[0m\u001B[1;33m)\u001B[0m \u001B[1;32melse\u001B[0m \u001B[1;33m-\u001B[0m\u001B[1;36m1\u001B[0m\u001B[1;33m\u001B[0m\u001B[1;33m\u001B[0m\u001B[0m\n",
      "\u001B[1;32m~\\anaconda3\\lib\\site-packages\\pandas\\core\\series.py\u001B[0m in \u001B[0;36mexplode\u001B[1;34m(self, ignore_index)\u001B[0m\n\u001B[0;32m   4102\u001B[0m             \u001B[1;32mreturn\u001B[0m \u001B[0mresult\u001B[0m\u001B[1;33m.\u001B[0m\u001B[0mreset_index\u001B[0m\u001B[1;33m(\u001B[0m\u001B[0mdrop\u001B[0m\u001B[1;33m=\u001B[0m\u001B[1;32mTrue\u001B[0m\u001B[1;33m)\u001B[0m \u001B[1;32mif\u001B[0m \u001B[0mignore_index\u001B[0m \u001B[1;32melse\u001B[0m \u001B[0mresult\u001B[0m\u001B[1;33m\u001B[0m\u001B[1;33m\u001B[0m\u001B[0m\n\u001B[0;32m   4103\u001B[0m \u001B[1;33m\u001B[0m\u001B[0m\n\u001B[1;32m-> 4104\u001B[1;33m         \u001B[0mvalues\u001B[0m\u001B[1;33m,\u001B[0m \u001B[0mcounts\u001B[0m \u001B[1;33m=\u001B[0m \u001B[0mreshape\u001B[0m\u001B[1;33m.\u001B[0m\u001B[0mexplode\u001B[0m\u001B[1;33m(\u001B[0m\u001B[0mnp\u001B[0m\u001B[1;33m.\u001B[0m\u001B[0masarray\u001B[0m\u001B[1;33m(\u001B[0m\u001B[0mself\u001B[0m\u001B[1;33m.\u001B[0m\u001B[0m_values\u001B[0m\u001B[1;33m)\u001B[0m\u001B[1;33m)\u001B[0m\u001B[1;33m\u001B[0m\u001B[1;33m\u001B[0m\u001B[0m\n\u001B[0m\u001B[0;32m   4105\u001B[0m \u001B[1;33m\u001B[0m\u001B[0m\n\u001B[0;32m   4106\u001B[0m         \u001B[1;32mif\u001B[0m \u001B[0mignore_index\u001B[0m\u001B[1;33m:\u001B[0m\u001B[1;33m\u001B[0m\u001B[1;33m\u001B[0m\u001B[0m\n",
      "\u001B[1;32m~\\anaconda3\\lib\\site-packages\\pandas\\_libs\\reshape.pyx\u001B[0m in \u001B[0;36mpandas._libs.reshape.explode\u001B[1;34m()\u001B[0m\n",
      "\u001B[1;31mMemoryError\u001B[0m: Unable to allocate 132. TiB for an array with shape (18107578090000,) and data type object"
     ]
    }
   ],
   "source": [
    "# read the sync data from the two devices\n",
    "\n",
    "data = pd.read_pickle('data\\WESAD\\S2\\S2.pkl')\n",
    "\n",
    "def flatten_dict(d, parent_key='', sep='_'):\n",
    "    items = []\n",
    "    for k, v in d.items():\n",
    "        new_key = parent_key + sep + k if parent_key else k\n",
    "        if isinstance(v, dict):\n",
    "            items.extend(flatten_dict(v, new_key, sep=sep).items())\n",
    "        else:\n",
    "            items.append((new_key, v))\n",
    "    return dict(items)\n",
    "\n",
    "# Flatten the nested dictionary\n",
    "flattened_dict = flatten_dict(data)\n",
    "\n",
    "# Convert the flattened dictionary into a DataFrame\n",
    "data = pd.DataFrame([flattened_dict])\n",
    "\n",
    "# Explode arrays into rows\n",
    "for col in data.columns:\n",
    "    data = data.explode(col)\n",
    "\n",
    "data"
   ],
   "metadata": {
    "collapsed": false,
    "ExecuteTime": {
     "end_time": "2023-08-17T15:23:05.755195600Z",
     "start_time": "2023-08-17T15:22:55.936200400Z"
    }
   }
  },
  {
   "cell_type": "code",
   "execution_count": null,
   "outputs": [],
   "source": [],
   "metadata": {
    "collapsed": false
   }
  }
 ],
 "metadata": {
  "kernelspec": {
   "display_name": "Python 3",
   "language": "python",
   "name": "python3"
  },
  "language_info": {
   "codemirror_mode": {
    "name": "ipython",
    "version": 2
   },
   "file_extension": ".py",
   "mimetype": "text/x-python",
   "name": "python",
   "nbconvert_exporter": "python",
   "pygments_lexer": "ipython2",
   "version": "2.7.6"
  }
 },
 "nbformat": 4,
 "nbformat_minor": 0
}
